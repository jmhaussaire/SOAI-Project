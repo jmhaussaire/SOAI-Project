{
  "nbformat": 4,
  "nbformat_minor": 0,
  "metadata": {
    "colab": {
      "name": "Untitled2.ipynb",
      "provenance": [],
      "authorship_tag": "ABX9TyO88OFNipJ280U2gYpvgxzy",
      "include_colab_link": true
    },
    "kernelspec": {
      "name": "python3",
      "display_name": "Python 3"
    },
    "widgets": {
      "application/vnd.jupyter.widget-state+json": {
        "b6810b562d164d6fb5f3fe98a6633289": {
          "model_module": "@jupyter-widgets/controls",
          "model_name": "HBoxModel",
          "state": {
            "_view_name": "HBoxView",
            "_dom_classes": [],
            "_model_name": "HBoxModel",
            "_view_module": "@jupyter-widgets/controls",
            "_model_module_version": "1.5.0",
            "_view_count": null,
            "_view_module_version": "1.5.0",
            "box_style": "",
            "layout": "IPY_MODEL_254fb84740a34754a4a426552cbcf5b5",
            "_model_module": "@jupyter-widgets/controls",
            "children": [
              "IPY_MODEL_8a015483375842b5a9b1c2c5f0f7dd24",
              "IPY_MODEL_7b32592f63d64b0286d8df7c9a5c17b5"
            ]
          }
        },
        "254fb84740a34754a4a426552cbcf5b5": {
          "model_module": "@jupyter-widgets/base",
          "model_name": "LayoutModel",
          "state": {
            "_view_name": "LayoutView",
            "grid_template_rows": null,
            "right": null,
            "justify_content": null,
            "_view_module": "@jupyter-widgets/base",
            "overflow": null,
            "_model_module_version": "1.2.0",
            "_view_count": null,
            "flex_flow": null,
            "width": null,
            "min_width": null,
            "border": null,
            "align_items": null,
            "bottom": null,
            "_model_module": "@jupyter-widgets/base",
            "top": null,
            "grid_column": null,
            "overflow_y": null,
            "overflow_x": null,
            "grid_auto_flow": null,
            "grid_area": null,
            "grid_template_columns": null,
            "flex": null,
            "_model_name": "LayoutModel",
            "justify_items": null,
            "grid_row": null,
            "max_height": null,
            "align_content": null,
            "visibility": null,
            "align_self": null,
            "height": null,
            "min_height": null,
            "padding": null,
            "grid_auto_rows": null,
            "grid_gap": null,
            "max_width": null,
            "order": null,
            "_view_module_version": "1.2.0",
            "grid_template_areas": null,
            "object_position": null,
            "object_fit": null,
            "grid_auto_columns": null,
            "margin": null,
            "display": null,
            "left": null
          }
        },
        "8a015483375842b5a9b1c2c5f0f7dd24": {
          "model_module": "@jupyter-widgets/controls",
          "model_name": "IntProgressModel",
          "state": {
            "_view_name": "ProgressView",
            "style": "IPY_MODEL_d06561ff0f4445219efd3a4b3eef0348",
            "_dom_classes": [],
            "description": "",
            "_model_name": "IntProgressModel",
            "bar_style": "success",
            "max": 250,
            "_view_module": "@jupyter-widgets/controls",
            "_model_module_version": "1.5.0",
            "value": 250,
            "_view_count": null,
            "_view_module_version": "1.5.0",
            "orientation": "horizontal",
            "min": 0,
            "description_tooltip": null,
            "_model_module": "@jupyter-widgets/controls",
            "layout": "IPY_MODEL_331316d10151421b8fdb553e8842edc9"
          }
        },
        "7b32592f63d64b0286d8df7c9a5c17b5": {
          "model_module": "@jupyter-widgets/controls",
          "model_name": "HTMLModel",
          "state": {
            "_view_name": "HTMLView",
            "style": "IPY_MODEL_84dbcb693807497fb0660238b9d72f24",
            "_dom_classes": [],
            "description": "",
            "_model_name": "HTMLModel",
            "placeholder": "​",
            "_view_module": "@jupyter-widgets/controls",
            "_model_module_version": "1.5.0",
            "value": "251it [09:56,  2.39s/it]",
            "_view_count": null,
            "_view_module_version": "1.5.0",
            "description_tooltip": null,
            "_model_module": "@jupyter-widgets/controls",
            "layout": "IPY_MODEL_d45153260bef4b86a8b8cacb9ce496f3"
          }
        },
        "d06561ff0f4445219efd3a4b3eef0348": {
          "model_module": "@jupyter-widgets/controls",
          "model_name": "ProgressStyleModel",
          "state": {
            "_view_name": "StyleView",
            "_model_name": "ProgressStyleModel",
            "description_width": "",
            "_view_module": "@jupyter-widgets/base",
            "_model_module_version": "1.5.0",
            "_view_count": null,
            "_view_module_version": "1.2.0",
            "bar_color": null,
            "_model_module": "@jupyter-widgets/controls"
          }
        },
        "331316d10151421b8fdb553e8842edc9": {
          "model_module": "@jupyter-widgets/base",
          "model_name": "LayoutModel",
          "state": {
            "_view_name": "LayoutView",
            "grid_template_rows": null,
            "right": null,
            "justify_content": null,
            "_view_module": "@jupyter-widgets/base",
            "overflow": null,
            "_model_module_version": "1.2.0",
            "_view_count": null,
            "flex_flow": null,
            "width": null,
            "min_width": null,
            "border": null,
            "align_items": null,
            "bottom": null,
            "_model_module": "@jupyter-widgets/base",
            "top": null,
            "grid_column": null,
            "overflow_y": null,
            "overflow_x": null,
            "grid_auto_flow": null,
            "grid_area": null,
            "grid_template_columns": null,
            "flex": null,
            "_model_name": "LayoutModel",
            "justify_items": null,
            "grid_row": null,
            "max_height": null,
            "align_content": null,
            "visibility": null,
            "align_self": null,
            "height": null,
            "min_height": null,
            "padding": null,
            "grid_auto_rows": null,
            "grid_gap": null,
            "max_width": null,
            "order": null,
            "_view_module_version": "1.2.0",
            "grid_template_areas": null,
            "object_position": null,
            "object_fit": null,
            "grid_auto_columns": null,
            "margin": null,
            "display": null,
            "left": null
          }
        },
        "84dbcb693807497fb0660238b9d72f24": {
          "model_module": "@jupyter-widgets/controls",
          "model_name": "DescriptionStyleModel",
          "state": {
            "_view_name": "StyleView",
            "_model_name": "DescriptionStyleModel",
            "description_width": "",
            "_view_module": "@jupyter-widgets/base",
            "_model_module_version": "1.5.0",
            "_view_count": null,
            "_view_module_version": "1.2.0",
            "_model_module": "@jupyter-widgets/controls"
          }
        },
        "d45153260bef4b86a8b8cacb9ce496f3": {
          "model_module": "@jupyter-widgets/base",
          "model_name": "LayoutModel",
          "state": {
            "_view_name": "LayoutView",
            "grid_template_rows": null,
            "right": null,
            "justify_content": null,
            "_view_module": "@jupyter-widgets/base",
            "overflow": null,
            "_model_module_version": "1.2.0",
            "_view_count": null,
            "flex_flow": null,
            "width": null,
            "min_width": null,
            "border": null,
            "align_items": null,
            "bottom": null,
            "_model_module": "@jupyter-widgets/base",
            "top": null,
            "grid_column": null,
            "overflow_y": null,
            "overflow_x": null,
            "grid_auto_flow": null,
            "grid_area": null,
            "grid_template_columns": null,
            "flex": null,
            "_model_name": "LayoutModel",
            "justify_items": null,
            "grid_row": null,
            "max_height": null,
            "align_content": null,
            "visibility": null,
            "align_self": null,
            "height": null,
            "min_height": null,
            "padding": null,
            "grid_auto_rows": null,
            "grid_gap": null,
            "max_width": null,
            "order": null,
            "_view_module_version": "1.2.0",
            "grid_template_areas": null,
            "object_position": null,
            "object_fit": null,
            "grid_auto_columns": null,
            "margin": null,
            "display": null,
            "left": null
          }
        },
        "c3e364f43c604d19b08890e48c2fba1c": {
          "model_module": "@jupyter-widgets/controls",
          "model_name": "HBoxModel",
          "state": {
            "_view_name": "HBoxView",
            "_dom_classes": [],
            "_model_name": "HBoxModel",
            "_view_module": "@jupyter-widgets/controls",
            "_model_module_version": "1.5.0",
            "_view_count": null,
            "_view_module_version": "1.5.0",
            "box_style": "",
            "layout": "IPY_MODEL_d1d4735b566a45348f36493dce00a846",
            "_model_module": "@jupyter-widgets/controls",
            "children": [
              "IPY_MODEL_ef69535ed2db49beb2587d1fbc826757",
              "IPY_MODEL_5897ed5fbe5344efb38ff2b3e59d5a96"
            ]
          }
        },
        "d1d4735b566a45348f36493dce00a846": {
          "model_module": "@jupyter-widgets/base",
          "model_name": "LayoutModel",
          "state": {
            "_view_name": "LayoutView",
            "grid_template_rows": null,
            "right": null,
            "justify_content": null,
            "_view_module": "@jupyter-widgets/base",
            "overflow": null,
            "_model_module_version": "1.2.0",
            "_view_count": null,
            "flex_flow": null,
            "width": null,
            "min_width": null,
            "border": null,
            "align_items": null,
            "bottom": null,
            "_model_module": "@jupyter-widgets/base",
            "top": null,
            "grid_column": null,
            "overflow_y": null,
            "overflow_x": null,
            "grid_auto_flow": null,
            "grid_area": null,
            "grid_template_columns": null,
            "flex": null,
            "_model_name": "LayoutModel",
            "justify_items": null,
            "grid_row": null,
            "max_height": null,
            "align_content": null,
            "visibility": null,
            "align_self": null,
            "height": null,
            "min_height": null,
            "padding": null,
            "grid_auto_rows": null,
            "grid_gap": null,
            "max_width": null,
            "order": null,
            "_view_module_version": "1.2.0",
            "grid_template_areas": null,
            "object_position": null,
            "object_fit": null,
            "grid_auto_columns": null,
            "margin": null,
            "display": null,
            "left": null
          }
        },
        "ef69535ed2db49beb2587d1fbc826757": {
          "model_module": "@jupyter-widgets/controls",
          "model_name": "IntProgressModel",
          "state": {
            "_view_name": "ProgressView",
            "style": "IPY_MODEL_e18aa047d7cd4568878b24f7158191e9",
            "_dom_classes": [],
            "description": "",
            "_model_name": "IntProgressModel",
            "bar_style": "success",
            "max": 1000,
            "_view_module": "@jupyter-widgets/controls",
            "_model_module_version": "1.5.0",
            "value": 1000,
            "_view_count": null,
            "_view_module_version": "1.5.0",
            "orientation": "horizontal",
            "min": 0,
            "description_tooltip": null,
            "_model_module": "@jupyter-widgets/controls",
            "layout": "IPY_MODEL_a9ad8b9770514ac2a1de2d733f7d761a"
          }
        },
        "5897ed5fbe5344efb38ff2b3e59d5a96": {
          "model_module": "@jupyter-widgets/controls",
          "model_name": "HTMLModel",
          "state": {
            "_view_name": "HTMLView",
            "style": "IPY_MODEL_4bf4fe9a059e4cec984973d2fa578a53",
            "_dom_classes": [],
            "description": "",
            "_model_name": "HTMLModel",
            "placeholder": "​",
            "_view_module": "@jupyter-widgets/controls",
            "_model_module_version": "1.5.0",
            "value": "100% 1000/1000 [00:01&lt;00:00, 772.28it/s]",
            "_view_count": null,
            "_view_module_version": "1.5.0",
            "description_tooltip": null,
            "_model_module": "@jupyter-widgets/controls",
            "layout": "IPY_MODEL_9f55f9ef494546548013cd7634c0e149"
          }
        },
        "e18aa047d7cd4568878b24f7158191e9": {
          "model_module": "@jupyter-widgets/controls",
          "model_name": "ProgressStyleModel",
          "state": {
            "_view_name": "StyleView",
            "_model_name": "ProgressStyleModel",
            "description_width": "",
            "_view_module": "@jupyter-widgets/base",
            "_model_module_version": "1.5.0",
            "_view_count": null,
            "_view_module_version": "1.2.0",
            "bar_color": null,
            "_model_module": "@jupyter-widgets/controls"
          }
        },
        "a9ad8b9770514ac2a1de2d733f7d761a": {
          "model_module": "@jupyter-widgets/base",
          "model_name": "LayoutModel",
          "state": {
            "_view_name": "LayoutView",
            "grid_template_rows": null,
            "right": null,
            "justify_content": null,
            "_view_module": "@jupyter-widgets/base",
            "overflow": null,
            "_model_module_version": "1.2.0",
            "_view_count": null,
            "flex_flow": null,
            "width": null,
            "min_width": null,
            "border": null,
            "align_items": null,
            "bottom": null,
            "_model_module": "@jupyter-widgets/base",
            "top": null,
            "grid_column": null,
            "overflow_y": null,
            "overflow_x": null,
            "grid_auto_flow": null,
            "grid_area": null,
            "grid_template_columns": null,
            "flex": null,
            "_model_name": "LayoutModel",
            "justify_items": null,
            "grid_row": null,
            "max_height": null,
            "align_content": null,
            "visibility": null,
            "align_self": null,
            "height": null,
            "min_height": null,
            "padding": null,
            "grid_auto_rows": null,
            "grid_gap": null,
            "max_width": null,
            "order": null,
            "_view_module_version": "1.2.0",
            "grid_template_areas": null,
            "object_position": null,
            "object_fit": null,
            "grid_auto_columns": null,
            "margin": null,
            "display": null,
            "left": null
          }
        },
        "4bf4fe9a059e4cec984973d2fa578a53": {
          "model_module": "@jupyter-widgets/controls",
          "model_name": "DescriptionStyleModel",
          "state": {
            "_view_name": "StyleView",
            "_model_name": "DescriptionStyleModel",
            "description_width": "",
            "_view_module": "@jupyter-widgets/base",
            "_model_module_version": "1.5.0",
            "_view_count": null,
            "_view_module_version": "1.2.0",
            "_model_module": "@jupyter-widgets/controls"
          }
        },
        "9f55f9ef494546548013cd7634c0e149": {
          "model_module": "@jupyter-widgets/base",
          "model_name": "LayoutModel",
          "state": {
            "_view_name": "LayoutView",
            "grid_template_rows": null,
            "right": null,
            "justify_content": null,
            "_view_module": "@jupyter-widgets/base",
            "overflow": null,
            "_model_module_version": "1.2.0",
            "_view_count": null,
            "flex_flow": null,
            "width": null,
            "min_width": null,
            "border": null,
            "align_items": null,
            "bottom": null,
            "_model_module": "@jupyter-widgets/base",
            "top": null,
            "grid_column": null,
            "overflow_y": null,
            "overflow_x": null,
            "grid_auto_flow": null,
            "grid_area": null,
            "grid_template_columns": null,
            "flex": null,
            "_model_name": "LayoutModel",
            "justify_items": null,
            "grid_row": null,
            "max_height": null,
            "align_content": null,
            "visibility": null,
            "align_self": null,
            "height": null,
            "min_height": null,
            "padding": null,
            "grid_auto_rows": null,
            "grid_gap": null,
            "max_width": null,
            "order": null,
            "_view_module_version": "1.2.0",
            "grid_template_areas": null,
            "object_position": null,
            "object_fit": null,
            "grid_auto_columns": null,
            "margin": null,
            "display": null,
            "left": null
          }
        }
      }
    }
  },
  "cells": [
    {
      "cell_type": "markdown",
      "metadata": {
        "id": "view-in-github",
        "colab_type": "text"
      },
      "source": [
        "<a href=\"https://colab.research.google.com/github/jmhaussaire/SOAI-Project/blob/master/main.ipynb\" target=\"_parent\"><img src=\"https://colab.research.google.com/assets/colab-badge.svg\" alt=\"Open In Colab\"/></a>"
      ]
    },
    {
      "cell_type": "markdown",
      "metadata": {
        "id": "9HHGaQAQ4G5P",
        "colab_type": "text"
      },
      "source": [
        "\n",
        "\n",
        "# Setup and imports"
      ]
    },
    {
      "cell_type": "code",
      "metadata": {
        "id": "G-IrDWQS3Rpq",
        "colab_type": "code",
        "colab": {
          "base_uri": "https://localhost:8080/",
          "height": 423
        },
        "outputId": "f93afcff-803b-4c3b-aa9b-64492b915d65"
      },
      "source": [
        "%reload_ext autoreload\n",
        "%autoreload 2\n",
        "from google.colab import drive\n",
        "drive.mount('/gdrive')\n",
        "\n",
        "!pip install -q pascal-voc-writer\n",
        "\n",
        "!git clone https://github.com/jmhaussaire/SOAI-Project.git\n",
        "import os\n",
        "os.chdir('SOAI-Project')\n",
        "!ls"
      ],
      "execution_count": 1,
      "outputs": [
        {
          "output_type": "stream",
          "text": [
            "Go to this URL in a browser: https://accounts.google.com/o/oauth2/auth?client_id=947318989803-6bn6qk8qdgf4n4g3pfee6491hc0brc4i.apps.googleusercontent.com&redirect_uri=urn%3aietf%3awg%3aoauth%3a2.0%3aoob&response_type=code&scope=email%20https%3a%2f%2fwww.googleapis.com%2fauth%2fdocs.test%20https%3a%2f%2fwww.googleapis.com%2fauth%2fdrive%20https%3a%2f%2fwww.googleapis.com%2fauth%2fdrive.photos.readonly%20https%3a%2f%2fwww.googleapis.com%2fauth%2fpeopleapi.readonly\n",
            "\n",
            "Enter your authorization code:\n",
            "··········\n",
            "Mounted at /gdrive\n",
            "Cloning into 'SOAI-Project'...\n",
            "remote: Enumerating objects: 133, done.\u001b[K\n",
            "remote: Counting objects: 100% (133/133), done.\u001b[K\n",
            "remote: Compressing objects: 100% (130/130), done.\u001b[K\n",
            "remote: Total 133 (delta 62), reused 0 (delta 0), pack-reused 0\u001b[K\n",
            "Receiving objects: 100% (133/133), 3.96 MiB | 12.14 MiB/s, done.\n",
            "Resolving deltas: 100% (62/62), done.\n",
            "classification.ipynb\t    model_data\n",
            "classification.py\t    README.md\n",
            "common.py\t\t    Swiss10_prep.ipynb\n",
            "CVTracker.py\t\t    TrafficCamera_DetectionAndTrackingIOU.ipynb\n",
            "DetectionAndTrackingCV.py   TrafficCamera_DetectionAndTracking.ipynb\n",
            "DetectionAndTrackingIOU.py  video.py\n",
            "detectionprovider.py\t    vid_process.py\n",
            "IOUTracker.py\t\t    yolo3\n",
            "LICENSE\t\t\t    yolo.py\n"
          ],
          "name": "stdout"
        }
      ]
    },
    {
      "cell_type": "code",
      "metadata": {
        "id": "pguVtOK23kyg",
        "colab_type": "code",
        "colab": {}
      },
      "source": [
        "#drive.mount(\"/gdrive\", force_remount=True)"
      ],
      "execution_count": 0,
      "outputs": []
    },
    {
      "cell_type": "code",
      "metadata": {
        "id": "-ViwMuKM3lX8",
        "colab_type": "code",
        "colab": {
          "base_uri": "https://localhost:8080/",
          "height": 83
        },
        "outputId": "01dc457a-3257-4dd9-ad34-ef2b59574fb4"
      },
      "source": [
        "# For detection\n",
        "from vid_process import process_vid\n",
        "from yolo import YOLO\n",
        "import pandas as pd\n",
        "from common import limit_gpu_memory\n",
        "limit_gpu_memory(0.7)\n",
        "# import numpy as np\n",
        "# import time\n",
        "# from datetime import datetime\n",
        "\n",
        "\n",
        "# For classification\n",
        "import classification\n",
        "# import glob\n",
        "# import xml.etree.ElementTree as ET\n",
        "# import scipy.stats\n",
        "# import copy \n",
        "# import itertools\n"
      ],
      "execution_count": 3,
      "outputs": [
        {
          "output_type": "display_data",
          "data": {
            "text/html": [
              "<p style=\"color: red;\">\n",
              "The default version of TensorFlow in Colab will soon switch to TensorFlow 2.x.<br>\n",
              "We recommend you <a href=\"https://www.tensorflow.org/guide/migrate\" target=\"_blank\">upgrade</a> now \n",
              "or ensure your notebook will continue to use TensorFlow 1.x via the <code>%tensorflow_version 1.x</code> magic:\n",
              "<a href=\"https://colab.research.google.com/notebooks/tensorflow_version.ipynb\" target=\"_blank\">more info</a>.</p>\n"
            ],
            "text/plain": [
              "<IPython.core.display.HTML object>"
            ]
          },
          "metadata": {
            "tags": []
          }
        },
        {
          "output_type": "stream",
          "text": [
            "Using TensorFlow backend.\n"
          ],
          "name": "stderr"
        }
      ]
    },
    {
      "cell_type": "markdown",
      "metadata": {
        "id": "YGOkpwht4QY9",
        "colab_type": "text"
      },
      "source": [
        "# Parameters"
      ]
    },
    {
      "cell_type": "code",
      "metadata": {
        "id": "OALiBdSv4E8Q",
        "colab_type": "code",
        "colab": {}
      },
      "source": [
        "# YOLO\n",
        "yolo_score = 0.6\n",
        "model_data_path = \"/gdrive/My Drive/SOAI/TrafficAnalysis-master/model_data/yolo.h5\"\n",
        "\n",
        "# Inputs\n",
        "data_path = \"/gdrive/My Drive/SOAI/TrafficAnalysis-master/\"\n",
        "in_csv_name = os.path.join(data_path,'Vehicles_2016-05-10.csv')\n",
        "startTime = pd.to_datetime('10.05.2016 11:53:16')\n",
        "in_vid_name = os.path.join(data_path,\"MAH00004.MP4\")\n",
        "\n",
        "# Outputs\n",
        "out_folder = \"/gdrive/My Drive/SOAI/outputs_27_02_2020/\"\n",
        "out_vid_name = os.path.join(out_folder,\"900sec.mp4\")\n",
        "seconds_skip = 0  # number of seconds to skip\n",
        "seconds_count = 10  # number of seconds to process\n",
        "csv_out = os.path.join(out_folder,'Vehicle-list.csv')\n",
        "\n",
        "# Classification\n",
        "n_cluster = 3\n",
        "max_iter = 100"
      ],
      "execution_count": 0,
      "outputs": []
    },
    {
      "cell_type": "markdown",
      "metadata": {
        "id": "JtNtKHEL4fEo",
        "colab_type": "text"
      },
      "source": [
        "# Pipeline"
      ]
    },
    {
      "cell_type": "markdown",
      "metadata": {
        "id": "jmI9gJWc4ngi",
        "colab_type": "text"
      },
      "source": [
        "## Run detection"
      ]
    },
    {
      "cell_type": "code",
      "metadata": {
        "id": "zi_Ehgdd4dO5",
        "colab_type": "code",
        "colab": {}
      },
      "source": [
        "yolo = YOLO(score=yolo_score, model_path = model_data_path)"
      ],
      "execution_count": 0,
      "outputs": []
    },
    {
      "cell_type": "code",
      "metadata": {
        "id": "VM0_2fvb613m",
        "colab_type": "code",
        "colab": {
          "base_uri": "https://localhost:8080/",
          "height": 67,
          "referenced_widgets": [
            "b6810b562d164d6fb5f3fe98a6633289",
            "254fb84740a34754a4a426552cbcf5b5",
            "8a015483375842b5a9b1c2c5f0f7dd24",
            "7b32592f63d64b0286d8df7c9a5c17b5",
            "d06561ff0f4445219efd3a4b3eef0348",
            "331316d10151421b8fdb553e8842edc9",
            "84dbcb693807497fb0660238b9d72f24",
            "d45153260bef4b86a8b8cacb9ce496f3"
          ]
        },
        "outputId": "d85e36db-ef25-4c27-add1-f603dcbc0040"
      },
      "source": [
        "process_vid(in_vid_name,seconds_count,seconds_skip,\n",
        "            yolo,\n",
        "            out_folder,csv_out,out_vid_name)"
      ],
      "execution_count": 18,
      "outputs": [
        {
          "output_type": "display_data",
          "data": {
            "application/vnd.jupyter.widget-view+json": {
              "model_id": "b6810b562d164d6fb5f3fe98a6633289",
              "version_minor": 0,
              "version_major": 2
            },
            "text/plain": [
              "HBox(children=(IntProgress(value=0, max=250), HTML(value='')))"
            ]
          },
          "metadata": {
            "tags": []
          }
        },
        {
          "output_type": "stream",
          "text": [
            "job done\n"
          ],
          "name": "stdout"
        }
      ]
    },
    {
      "cell_type": "markdown",
      "metadata": {
        "id": "TqteKnMs7BUY",
        "colab_type": "text"
      },
      "source": [
        "## Run classification"
      ]
    },
    {
      "cell_type": "code",
      "metadata": {
        "id": "0naEUvD4KaN3",
        "colab_type": "code",
        "colab": {
          "base_uri": "https://localhost:8080/",
          "height": 219
        },
        "outputId": "e80976ef-f764-4691-aa2d-33d850b5e2bb"
      },
      "source": [
        "!git pull"
      ],
      "execution_count": 24,
      "outputs": [
        {
          "output_type": "stream",
          "text": [
            "remote: Enumerating objects: 5, done.\u001b[K\n",
            "remote: Counting objects:  20% (1/5)\u001b[K\rremote: Counting objects:  40% (2/5)\u001b[K\rremote: Counting objects:  60% (3/5)\u001b[K\rremote: Counting objects:  80% (4/5)\u001b[K\rremote: Counting objects: 100% (5/5)\u001b[K\rremote: Counting objects: 100% (5/5), done.\u001b[K\n",
            "remote: Compressing objects:  33% (1/3)\u001b[K\rremote: Compressing objects:  66% (2/3)\u001b[K\rremote: Compressing objects: 100% (3/3)\u001b[K\rremote: Compressing objects: 100% (3/3), done.\u001b[K\n",
            "remote: Total 3 (delta 2), reused 0 (delta 0), pack-reused 0\u001b[K\n",
            "Unpacking objects:  33% (1/3)   \rUnpacking objects:  66% (2/3)   \rUnpacking objects: 100% (3/3)   \rUnpacking objects: 100% (3/3), done.\n",
            "From https://github.com/jmhaussaire/SOAI-Project\n",
            "   71df965..f6e5d5d  master     -> origin/master\n",
            "Updating 71df965..f6e5d5d\n",
            "Fast-forward\n",
            " classification.py | 4 \u001b[32m++\u001b[m\u001b[31m--\u001b[m\n",
            " 1 file changed, 2 insertions(+), 2 deletions(-)\n"
          ],
          "name": "stdout"
        }
      ]
    },
    {
      "cell_type": "code",
      "metadata": {
        "id": "VfxQiX617EZy",
        "colab_type": "code",
        "colab": {
          "base_uri": "https://localhost:8080/",
          "height": 233,
          "referenced_widgets": [
            "c3e364f43c604d19b08890e48c2fba1c",
            "d1d4735b566a45348f36493dce00a846",
            "ef69535ed2db49beb2587d1fbc826757",
            "5897ed5fbe5344efb38ff2b3e59d5a96",
            "e18aa047d7cd4568878b24f7158191e9",
            "a9ad8b9770514ac2a1de2d733f7d761a",
            "4bf4fe9a059e4cec984973d2fa578a53",
            "9f55f9ef494546548013cd7634c0e149"
          ]
        },
        "outputId": "8a548f83-d662-47bd-cb29-accda1c53a27"
      },
      "source": [
        "# Get bounding box corners from xml file\n",
        "#tracks = classification.get_bbox(out_folder,max_file=1000)\n",
        "print(\"Retrieving tracks\")\n",
        "tracks = classification.get_bbox(\"/gdrive/My Drive/SOAI/outputs_17_02_2020/\",max_file=1000)\n",
        "print(\"done\")\n",
        "# Compute a k-mean algorithm to cluster the tracks into lanes\n",
        "print(\"Clustering tracks\")\n",
        "clusters = classification.k_means(tracks,n_cluster,max_iter)\n",
        "print(\"done\")\n",
        "# Determine LOI\n",
        "print(\"Determining LOI\")\n",
        "LOI = classification.get_LOI(clusters)\n",
        "print(\"done\")"
      ],
      "execution_count": 25,
      "outputs": [
        {
          "output_type": "stream",
          "text": [
            "Retrieving tracks ...\n"
          ],
          "name": "stdout"
        },
        {
          "output_type": "display_data",
          "data": {
            "application/vnd.jupyter.widget-view+json": {
              "model_id": "c3e364f43c604d19b08890e48c2fba1c",
              "version_minor": 0,
              "version_major": 2
            },
            "text/plain": [
              "HBox(children=(IntProgress(value=0, max=1000), HTML(value='')))"
            ]
          },
          "metadata": {
            "tags": []
          }
        },
        {
          "output_type": "stream",
          "text": [
            "  ... done\n",
            "Clustering tracks ...\n",
            "  iteration: 0\n",
            "  iteration: 1\n",
            "  iteration: 2\n",
            "  iteration: 3\n",
            "  ... done\n",
            "Determining LOI ...\n",
            "  ... done\n"
          ],
          "name": "stdout"
        }
      ]
    },
    {
      "cell_type": "markdown",
      "metadata": {
        "id": "fLP81AE4I85Z",
        "colab_type": "text"
      },
      "source": [
        "## Find optimal timestamp"
      ]
    },
    {
      "cell_type": "code",
      "metadata": {
        "id": "-aSZtpBwLVql",
        "colab_type": "code",
        "colab": {
          "base_uri": "https://localhost:8080/",
          "height": 55
        },
        "outputId": "0cb07113-74a4-4830-d0a9-e78edc18af06"
      },
      "source": [
        "print([t['type'] for t in tracks])\n"
      ],
      "execution_count": 27,
      "outputs": [
        {
          "output_type": "stream",
          "text": [
            "['truck', 'car', 'car', 'car', 'car', 'truck', 'truck', 'car', 'truck', 'car', 'truck', 'truck', 'car', 'car', 'car', 'car', 'car', 'car', 'truck', 'truck', 'car', 'truck', 'car', 'car', 'car', 'car', 'car', 'car', 'truck', 'truck', 'truck', 'car', 'car', 'car', 'car', 'truck', 'truck', 'car', 'car', 'car', 'truck', 'car', 'truck', 'car', 'truck', 'car', 'car', 'truck', 'car', 'truck', 'car', 'truck', 'car', 'car', 'car', 'car', 'car', 'truck', 'car', 'car', 'truck', 'car', 'truck', 'car', 'truck', 'car', 'car', 'car', 'car', 'car', 'car', 'car', 'car', 'car', 'car', 'car', 'car', 'car', 'car', 'car', 'car', 'car', 'car', 'car', 'car', 'car', 'car', 'car', 'car', 'car', 'truck', 'truck', 'car', 'car', 'car', 'car', 'car', 'car', 'car', 'car', 'car', 'car', 'car', 'car', 'truck', 'car', 'car', 'car', 'car', 'car', 'car', 'car', 'car', 'car', 'car', 'car', 'car', 'car', 'car', 'car', 'car', 'car', 'car', 'car', 'car', 'car', 'car', 'car', 'car', 'car', 'car', 'car', 'car', 'car', 'car', 'car', 'car', 'car', 'car', 'car', 'car', 'car', 'car', 'car', 'car', 'car', 'car', 'car', 'car', 'car', 'car', 'car', 'car', 'car', 'car', 'car', 'truck', 'car', 'truck', 'car', 'truck', 'truck', 'truck', 'car', 'car', 'car', 'car', 'car', 'car', 'car', 'car', 'car', 'car', 'car', 'car', 'car', 'truck', 'car', 'car', 'car', 'truck', 'car', 'car', 'truck', 'car', 'car', 'car', 'car', 'car', 'truck', 'truck', 'truck', 'car', 'car', 'car', 'car', 'car', 'truck', 'car', 'truck', 'car', 'car', 'car', 'car', 'car', 'car', 'car', 'car', 'car', 'car', 'car', 'car', 'car', 'car', 'car', 'truck', 'car', 'car', 'car', 'car', 'car', 'car', 'car', 'car', 'car', 'car', 'car', 'car', 'car', 'car', 'car', 'car', 'car', 'car', 'car', 'car', 'car', 'car', 'car', 'car', 'car', 'car', 'car', 'car', 'car', 'car', 'car', 'truck', 'car', 'truck', 'bus', 'car', 'car', 'truck', 'truck', 'bus', 'bus', 'car', 'truck', 'truck', 'car', 'car']\n"
          ],
          "name": "stdout"
        }
      ]
    },
    {
      "cell_type": "code",
      "metadata": {
        "id": "YpNI2lvGJCHI",
        "colab_type": "code",
        "colab": {}
      },
      "source": [
        "# I know the LOI, the tracks and its vehicle type. \n"
      ],
      "execution_count": 0,
      "outputs": []
    }
  ]
}