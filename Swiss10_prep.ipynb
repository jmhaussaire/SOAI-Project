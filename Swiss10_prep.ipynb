{
  "nbformat": 4,
  "nbformat_minor": 0,
  "metadata": {
    "colab": {
      "name": "Swiss10_prep.ipynb",
      "provenance": [],
      "collapsed_sections": [
        "c9Y4e2lqnCLP",
        "aWKRGeRGfBaU",
        "QrV1747ruei3",
        "xTpVr2CTuhuX",
        "ADNyDMnUb2vG"
      ]
    },
    "kernelspec": {
      "name": "python3",
      "display_name": "Python 3"
    },
    "accelerator": "GPU",
    "widgets": {
      "application/vnd.jupyter.widget-state+json": {
        "f806f20d43f44276b63d860d95cbc4c2": {
          "model_module": "@jupyter-widgets/controls",
          "model_name": "HBoxModel",
          "state": {
            "_view_name": "HBoxView",
            "_dom_classes": [],
            "_model_name": "HBoxModel",
            "_view_module": "@jupyter-widgets/controls",
            "_model_module_version": "1.5.0",
            "_view_count": null,
            "_view_module_version": "1.5.0",
            "box_style": "",
            "layout": "IPY_MODEL_d5d244ba79cf4b8b8c6759eb13ccaaba",
            "_model_module": "@jupyter-widgets/controls",
            "children": [
              "IPY_MODEL_9782ddef99f14d19a64fabe64478933b",
              "IPY_MODEL_16d9598b01114ee5a472c96f3b9327e4"
            ]
          }
        },
        "d5d244ba79cf4b8b8c6759eb13ccaaba": {
          "model_module": "@jupyter-widgets/base",
          "model_name": "LayoutModel",
          "state": {
            "_view_name": "LayoutView",
            "grid_template_rows": null,
            "right": null,
            "justify_content": null,
            "_view_module": "@jupyter-widgets/base",
            "overflow": null,
            "_model_module_version": "1.2.0",
            "_view_count": null,
            "flex_flow": null,
            "width": null,
            "min_width": null,
            "border": null,
            "align_items": null,
            "bottom": null,
            "_model_module": "@jupyter-widgets/base",
            "top": null,
            "grid_column": null,
            "overflow_y": null,
            "overflow_x": null,
            "grid_auto_flow": null,
            "grid_area": null,
            "grid_template_columns": null,
            "flex": null,
            "_model_name": "LayoutModel",
            "justify_items": null,
            "grid_row": null,
            "max_height": null,
            "align_content": null,
            "visibility": null,
            "align_self": null,
            "height": null,
            "min_height": null,
            "padding": null,
            "grid_auto_rows": null,
            "grid_gap": null,
            "max_width": null,
            "order": null,
            "_view_module_version": "1.2.0",
            "grid_template_areas": null,
            "object_position": null,
            "object_fit": null,
            "grid_auto_columns": null,
            "margin": null,
            "display": null,
            "left": null
          }
        },
        "9782ddef99f14d19a64fabe64478933b": {
          "model_module": "@jupyter-widgets/controls",
          "model_name": "IntProgressModel",
          "state": {
            "_view_name": "ProgressView",
            "style": "IPY_MODEL_31039be7936945149338d2381d2f5d2f",
            "_dom_classes": [],
            "description": "",
            "_model_name": "IntProgressModel",
            "bar_style": "success",
            "max": 250,
            "_view_module": "@jupyter-widgets/controls",
            "_model_module_version": "1.5.0",
            "value": 250,
            "_view_count": null,
            "_view_module_version": "1.5.0",
            "orientation": "horizontal",
            "min": 0,
            "description_tooltip": null,
            "_model_module": "@jupyter-widgets/controls",
            "layout": "IPY_MODEL_4d9089148d194ebb831922d8a9b18bab"
          }
        },
        "16d9598b01114ee5a472c96f3b9327e4": {
          "model_module": "@jupyter-widgets/controls",
          "model_name": "HTMLModel",
          "state": {
            "_view_name": "HTMLView",
            "style": "IPY_MODEL_299f9856962f4645a4747d439c2d67a5",
            "_dom_classes": [],
            "description": "",
            "_model_name": "HTMLModel",
            "placeholder": "​",
            "_view_module": "@jupyter-widgets/controls",
            "_model_module_version": "1.5.0",
            "value": "251it [00:35,  8.90it/s]",
            "_view_count": null,
            "_view_module_version": "1.5.0",
            "description_tooltip": null,
            "_model_module": "@jupyter-widgets/controls",
            "layout": "IPY_MODEL_db31d4cbefbf4a0588420b72553bb03c"
          }
        },
        "31039be7936945149338d2381d2f5d2f": {
          "model_module": "@jupyter-widgets/controls",
          "model_name": "ProgressStyleModel",
          "state": {
            "_view_name": "StyleView",
            "_model_name": "ProgressStyleModel",
            "description_width": "",
            "_view_module": "@jupyter-widgets/base",
            "_model_module_version": "1.5.0",
            "_view_count": null,
            "_view_module_version": "1.2.0",
            "bar_color": null,
            "_model_module": "@jupyter-widgets/controls"
          }
        },
        "4d9089148d194ebb831922d8a9b18bab": {
          "model_module": "@jupyter-widgets/base",
          "model_name": "LayoutModel",
          "state": {
            "_view_name": "LayoutView",
            "grid_template_rows": null,
            "right": null,
            "justify_content": null,
            "_view_module": "@jupyter-widgets/base",
            "overflow": null,
            "_model_module_version": "1.2.0",
            "_view_count": null,
            "flex_flow": null,
            "width": null,
            "min_width": null,
            "border": null,
            "align_items": null,
            "bottom": null,
            "_model_module": "@jupyter-widgets/base",
            "top": null,
            "grid_column": null,
            "overflow_y": null,
            "overflow_x": null,
            "grid_auto_flow": null,
            "grid_area": null,
            "grid_template_columns": null,
            "flex": null,
            "_model_name": "LayoutModel",
            "justify_items": null,
            "grid_row": null,
            "max_height": null,
            "align_content": null,
            "visibility": null,
            "align_self": null,
            "height": null,
            "min_height": null,
            "padding": null,
            "grid_auto_rows": null,
            "grid_gap": null,
            "max_width": null,
            "order": null,
            "_view_module_version": "1.2.0",
            "grid_template_areas": null,
            "object_position": null,
            "object_fit": null,
            "grid_auto_columns": null,
            "margin": null,
            "display": null,
            "left": null
          }
        },
        "299f9856962f4645a4747d439c2d67a5": {
          "model_module": "@jupyter-widgets/controls",
          "model_name": "DescriptionStyleModel",
          "state": {
            "_view_name": "StyleView",
            "_model_name": "DescriptionStyleModel",
            "description_width": "",
            "_view_module": "@jupyter-widgets/base",
            "_model_module_version": "1.5.0",
            "_view_count": null,
            "_view_module_version": "1.2.0",
            "_model_module": "@jupyter-widgets/controls"
          }
        },
        "db31d4cbefbf4a0588420b72553bb03c": {
          "model_module": "@jupyter-widgets/base",
          "model_name": "LayoutModel",
          "state": {
            "_view_name": "LayoutView",
            "grid_template_rows": null,
            "right": null,
            "justify_content": null,
            "_view_module": "@jupyter-widgets/base",
            "overflow": null,
            "_model_module_version": "1.2.0",
            "_view_count": null,
            "flex_flow": null,
            "width": null,
            "min_width": null,
            "border": null,
            "align_items": null,
            "bottom": null,
            "_model_module": "@jupyter-widgets/base",
            "top": null,
            "grid_column": null,
            "overflow_y": null,
            "overflow_x": null,
            "grid_auto_flow": null,
            "grid_area": null,
            "grid_template_columns": null,
            "flex": null,
            "_model_name": "LayoutModel",
            "justify_items": null,
            "grid_row": null,
            "max_height": null,
            "align_content": null,
            "visibility": null,
            "align_self": null,
            "height": null,
            "min_height": null,
            "padding": null,
            "grid_auto_rows": null,
            "grid_gap": null,
            "max_width": null,
            "order": null,
            "_view_module_version": "1.2.0",
            "grid_template_areas": null,
            "object_position": null,
            "object_fit": null,
            "grid_auto_columns": null,
            "margin": null,
            "display": null,
            "left": null
          }
        },
        "30fb468182ab4c46b3f7927ea252ed7a": {
          "model_module": "@jupyter-widgets/controls",
          "model_name": "HBoxModel",
          "state": {
            "_view_name": "HBoxView",
            "_dom_classes": [],
            "_model_name": "HBoxModel",
            "_view_module": "@jupyter-widgets/controls",
            "_model_module_version": "1.5.0",
            "_view_count": null,
            "_view_module_version": "1.5.0",
            "box_style": "",
            "layout": "IPY_MODEL_6d53a74a3c5f4f9887f91f3e27dbcbfb",
            "_model_module": "@jupyter-widgets/controls",
            "children": [
              "IPY_MODEL_7dcf92101f2f4457b659d2b1c0c59bb6",
              "IPY_MODEL_93756772a8d840609d30a15203f779c8"
            ]
          }
        },
        "6d53a74a3c5f4f9887f91f3e27dbcbfb": {
          "model_module": "@jupyter-widgets/base",
          "model_name": "LayoutModel",
          "state": {
            "_view_name": "LayoutView",
            "grid_template_rows": null,
            "right": null,
            "justify_content": null,
            "_view_module": "@jupyter-widgets/base",
            "overflow": null,
            "_model_module_version": "1.2.0",
            "_view_count": null,
            "flex_flow": null,
            "width": null,
            "min_width": null,
            "border": null,
            "align_items": null,
            "bottom": null,
            "_model_module": "@jupyter-widgets/base",
            "top": null,
            "grid_column": null,
            "overflow_y": null,
            "overflow_x": null,
            "grid_auto_flow": null,
            "grid_area": null,
            "grid_template_columns": null,
            "flex": null,
            "_model_name": "LayoutModel",
            "justify_items": null,
            "grid_row": null,
            "max_height": null,
            "align_content": null,
            "visibility": null,
            "align_self": null,
            "height": null,
            "min_height": null,
            "padding": null,
            "grid_auto_rows": null,
            "grid_gap": null,
            "max_width": null,
            "order": null,
            "_view_module_version": "1.2.0",
            "grid_template_areas": null,
            "object_position": null,
            "object_fit": null,
            "grid_auto_columns": null,
            "margin": null,
            "display": null,
            "left": null
          }
        },
        "7dcf92101f2f4457b659d2b1c0c59bb6": {
          "model_module": "@jupyter-widgets/controls",
          "model_name": "IntProgressModel",
          "state": {
            "_view_name": "ProgressView",
            "style": "IPY_MODEL_f5391fe31d2f4eacb4dbadf8e936f2db",
            "_dom_classes": [],
            "description": "",
            "_model_name": "IntProgressModel",
            "bar_style": "success",
            "max": 750,
            "_view_module": "@jupyter-widgets/controls",
            "_model_module_version": "1.5.0",
            "value": 750,
            "_view_count": null,
            "_view_module_version": "1.5.0",
            "orientation": "horizontal",
            "min": 0,
            "description_tooltip": null,
            "_model_module": "@jupyter-widgets/controls",
            "layout": "IPY_MODEL_47aa978fc92e4fae88eceddb3fd693c8"
          }
        },
        "93756772a8d840609d30a15203f779c8": {
          "model_module": "@jupyter-widgets/controls",
          "model_name": "HTMLModel",
          "state": {
            "_view_name": "HTMLView",
            "style": "IPY_MODEL_221e60b90de34c098f931242dd90ac50",
            "_dom_classes": [],
            "description": "",
            "_model_name": "HTMLModel",
            "placeholder": "​",
            "_view_module": "@jupyter-widgets/controls",
            "_model_module_version": "1.5.0",
            "value": "751it [01:34,  9.23it/s]",
            "_view_count": null,
            "_view_module_version": "1.5.0",
            "description_tooltip": null,
            "_model_module": "@jupyter-widgets/controls",
            "layout": "IPY_MODEL_3f84637a50124edb8fd6da8ce1a04f6a"
          }
        },
        "f5391fe31d2f4eacb4dbadf8e936f2db": {
          "model_module": "@jupyter-widgets/controls",
          "model_name": "ProgressStyleModel",
          "state": {
            "_view_name": "StyleView",
            "_model_name": "ProgressStyleModel",
            "description_width": "",
            "_view_module": "@jupyter-widgets/base",
            "_model_module_version": "1.5.0",
            "_view_count": null,
            "_view_module_version": "1.2.0",
            "bar_color": null,
            "_model_module": "@jupyter-widgets/controls"
          }
        },
        "47aa978fc92e4fae88eceddb3fd693c8": {
          "model_module": "@jupyter-widgets/base",
          "model_name": "LayoutModel",
          "state": {
            "_view_name": "LayoutView",
            "grid_template_rows": null,
            "right": null,
            "justify_content": null,
            "_view_module": "@jupyter-widgets/base",
            "overflow": null,
            "_model_module_version": "1.2.0",
            "_view_count": null,
            "flex_flow": null,
            "width": null,
            "min_width": null,
            "border": null,
            "align_items": null,
            "bottom": null,
            "_model_module": "@jupyter-widgets/base",
            "top": null,
            "grid_column": null,
            "overflow_y": null,
            "overflow_x": null,
            "grid_auto_flow": null,
            "grid_area": null,
            "grid_template_columns": null,
            "flex": null,
            "_model_name": "LayoutModel",
            "justify_items": null,
            "grid_row": null,
            "max_height": null,
            "align_content": null,
            "visibility": null,
            "align_self": null,
            "height": null,
            "min_height": null,
            "padding": null,
            "grid_auto_rows": null,
            "grid_gap": null,
            "max_width": null,
            "order": null,
            "_view_module_version": "1.2.0",
            "grid_template_areas": null,
            "object_position": null,
            "object_fit": null,
            "grid_auto_columns": null,
            "margin": null,
            "display": null,
            "left": null
          }
        },
        "221e60b90de34c098f931242dd90ac50": {
          "model_module": "@jupyter-widgets/controls",
          "model_name": "DescriptionStyleModel",
          "state": {
            "_view_name": "StyleView",
            "_model_name": "DescriptionStyleModel",
            "description_width": "",
            "_view_module": "@jupyter-widgets/base",
            "_model_module_version": "1.5.0",
            "_view_count": null,
            "_view_module_version": "1.2.0",
            "_model_module": "@jupyter-widgets/controls"
          }
        },
        "3f84637a50124edb8fd6da8ce1a04f6a": {
          "model_module": "@jupyter-widgets/base",
          "model_name": "LayoutModel",
          "state": {
            "_view_name": "LayoutView",
            "grid_template_rows": null,
            "right": null,
            "justify_content": null,
            "_view_module": "@jupyter-widgets/base",
            "overflow": null,
            "_model_module_version": "1.2.0",
            "_view_count": null,
            "flex_flow": null,
            "width": null,
            "min_width": null,
            "border": null,
            "align_items": null,
            "bottom": null,
            "_model_module": "@jupyter-widgets/base",
            "top": null,
            "grid_column": null,
            "overflow_y": null,
            "overflow_x": null,
            "grid_auto_flow": null,
            "grid_area": null,
            "grid_template_columns": null,
            "flex": null,
            "_model_name": "LayoutModel",
            "justify_items": null,
            "grid_row": null,
            "max_height": null,
            "align_content": null,
            "visibility": null,
            "align_self": null,
            "height": null,
            "min_height": null,
            "padding": null,
            "grid_auto_rows": null,
            "grid_gap": null,
            "max_width": null,
            "order": null,
            "_view_module_version": "1.2.0",
            "grid_template_areas": null,
            "object_position": null,
            "object_fit": null,
            "grid_auto_columns": null,
            "margin": null,
            "display": null,
            "left": null
          }
        }
      }
    }
  },
  "cells": [
    {
      "cell_type": "markdown",
      "metadata": {
        "id": "g_LB-iYwNnz5",
        "colab_type": "text"
      },
      "source": [
        "# GPU Info"
      ]
    },
    {
      "cell_type": "code",
      "metadata": {
        "id": "qtyD9Txh9SQz",
        "colab_type": "code",
        "outputId": "cf42ede4-b135-4cb6-da84-46f1a781743b",
        "colab": {
          "base_uri": "https://localhost:8080/",
          "height": 274
        }
      },
      "source": [
        "!git clone https://github.com/jmhaussaire/SOAI-Project.git\n",
        "import os\n",
        "os.chdir('SOAI-Project')\n",
        "!ls"
      ],
      "execution_count": 1,
      "outputs": [
        {
          "output_type": "stream",
          "text": [
            "Cloning into 'SOAI-Project'...\n",
            "remote: Enumerating objects: 73, done.\u001b[K\n",
            "remote: Counting objects: 100% (73/73), done.\u001b[K\n",
            "remote: Compressing objects: 100% (70/70), done.\u001b[K\n",
            "remote: Total 73 (delta 29), reused 0 (delta 0), pack-reused 0\u001b[K\n",
            "Unpacking objects: 100% (73/73), done.\n",
            "common.py\t\t    README.md\n",
            "CVTracker.py\t\t    Swiss10_prep.ipynb\n",
            "DetectionAndTrackingCV.py   TrafficCamera_DetectionAndTrackingIOU.ipynb\n",
            "DetectionAndTrackingIOU.py  TrafficCamera_DetectionAndTracking.ipynb\n",
            "detectionprovider.py\t    video.py\n",
            "IOUTracker.py\t\t    yolo3\n",
            "LICENSE\t\t\t    yolo.py\n",
            "model_data\n"
          ],
          "name": "stdout"
        }
      ]
    },
    {
      "cell_type": "code",
      "metadata": {
        "id": "0riKiy-0F_-x",
        "colab_type": "code",
        "colab": {}
      },
      "source": [
        "!nvidia-smi"
      ],
      "execution_count": 0,
      "outputs": []
    },
    {
      "cell_type": "markdown",
      "metadata": {
        "id": "6md-vM52HyDJ",
        "colab_type": "text"
      },
      "source": [
        "# Imports"
      ]
    },
    {
      "cell_type": "code",
      "metadata": {
        "id": "hoWeJ2m3LBHY",
        "colab_type": "code",
        "outputId": "41ec13dc-b39c-4104-d135-9b109fac6a50",
        "colab": {
          "base_uri": "https://localhost:8080/",
          "height": 129
        }
      },
      "source": [
        "%reload_ext autoreload\n",
        "%autoreload 2\n",
        "from os.path import join\n",
        "from google.colab import drive\n",
        "drive.mount('/gdrive')"
      ],
      "execution_count": 3,
      "outputs": [
        {
          "output_type": "stream",
          "text": [
            "Go to this URL in a browser: https://accounts.google.com/o/oauth2/auth?client_id=947318989803-6bn6qk8qdgf4n4g3pfee6491hc0brc4i.apps.googleusercontent.com&redirect_uri=urn%3aietf%3awg%3aoauth%3a2.0%3aoob&response_type=code&scope=email%20https%3a%2f%2fwww.googleapis.com%2fauth%2fdocs.test%20https%3a%2f%2fwww.googleapis.com%2fauth%2fdrive%20https%3a%2f%2fwww.googleapis.com%2fauth%2fdrive.photos.readonly%20https%3a%2f%2fwww.googleapis.com%2fauth%2fpeopleapi.readonly\n",
            "\n",
            "Enter your authorization code:\n",
            "··········\n",
            "Mounted at /gdrive\n"
          ],
          "name": "stdout"
        }
      ]
    },
    {
      "cell_type": "markdown",
      "metadata": {
        "id": "CeWMPcXA70AX",
        "colab_type": "text"
      },
      "source": [
        "Remount drive"
      ]
    },
    {
      "cell_type": "code",
      "metadata": {
        "id": "p37bp86i7zbN",
        "colab_type": "code",
        "outputId": "01e01657-b5e8-4eda-edff-7a4e0e26d651",
        "colab": {
          "base_uri": "https://localhost:8080/",
          "height": 35
        }
      },
      "source": [
        "drive.mount(\"/gdrive\", force_remount=True)"
      ],
      "execution_count": 23,
      "outputs": [
        {
          "output_type": "stream",
          "text": [
            "Mounted at /gdrive\n"
          ],
          "name": "stdout"
        }
      ]
    },
    {
      "cell_type": "code",
      "metadata": {
        "id": "TiuCRbPqaoT9",
        "colab_type": "code",
        "colab": {}
      },
      "source": [
        "!pip install -q pascal-voc-writer"
      ],
      "execution_count": 0,
      "outputs": []
    },
    {
      "cell_type": "code",
      "metadata": {
        "id": "2a1sonFNHyDL",
        "colab_type": "code",
        "colab": {
          "base_uri": "https://localhost:8080/",
          "height": 157
        },
        "outputId": "d5b8e344-78dd-4c91-d8f8-6ab78f46c4a1"
      },
      "source": [
        "import matplotlib.pyplot as plt\n",
        "from detectionprovider import DetectionProvider\n",
        "from common import limit_gpu_memory, Detection, show_LOIs, show_LOI_Info\n",
        "from IOUTracker import IOUTracker\n",
        "from video import VideoStreamReader, VideoStreamWriter\n",
        "from yolo import YOLO\n",
        "from tqdm import tqdm_notebook\n",
        "import numpy as np\n",
        "limit_gpu_memory(0.7)\n",
        "import cv2\n",
        "from pascal_voc_writer import Writer as LabelWriter\n",
        "import csv\n",
        "import time\n",
        "from datetime import datetime\n",
        "import pandas as pd"
      ],
      "execution_count": 7,
      "outputs": [
        {
          "output_type": "display_data",
          "data": {
            "text/html": [
              "<p style=\"color: red;\">\n",
              "The default version of TensorFlow in Colab will soon switch to TensorFlow 2.x.<br>\n",
              "We recommend you <a href=\"https://www.tensorflow.org/guide/migrate\" target=\"_blank\">upgrade</a> now \n",
              "or ensure your notebook will continue to use TensorFlow 1.x via the <code>%tensorflow_version 1.x</code> magic:\n",
              "<a href=\"https://colab.research.google.com/notebooks/tensorflow_version.ipynb\" target=\"_blank\">more info</a>.</p>\n"
            ],
            "text/plain": [
              "<IPython.core.display.HTML object>"
            ]
          },
          "metadata": {
            "tags": []
          }
        },
        {
          "output_type": "stream",
          "text": [
            "Using TensorFlow backend.\n"
          ],
          "name": "stderr"
        },
        {
          "output_type": "stream",
          "text": [
            "WARNING:tensorflow:From /content/SOAI-Project/common.py:43: The name tf.ConfigProto is deprecated. Please use tf.compat.v1.ConfigProto instead.\n",
            "\n",
            "WARNING:tensorflow:From /content/SOAI-Project/common.py:45: The name tf.Session is deprecated. Please use tf.compat.v1.Session instead.\n",
            "\n"
          ],
          "name": "stdout"
        }
      ]
    },
    {
      "cell_type": "markdown",
      "metadata": {
        "id": "csRmCH2fi-dw",
        "colab_type": "text"
      },
      "source": [
        "# Parameters\n"
      ]
    },
    {
      "cell_type": "code",
      "metadata": {
        "id": "2_aAEjPhi9Si",
        "colab_type": "code",
        "colab": {}
      },
      "source": [
        "import os\n",
        "\n",
        "# YOLO\n",
        "yolo_score = 0.6\n",
        "model_data_path = \"/gdrive/My Drive/SOAI/TrafficAnalysis-master/model_data/yolo.h5\"\n",
        "\n",
        "# Inputs\n",
        "data_path = \"/gdrive/My Drive/SOAI/TrafficAnalysis-master/\"\n",
        "in_csv_name = os.path.join(data_path,'Vehicles_2016-05-10.csv')\n",
        "startTime = pd.to_datetime('10.05.2016 11:53:16')\n",
        "in_vid_name = os.path.join(data_path,\"MAH00004.MP4\")\n",
        "\n",
        "# Outputs\n",
        "out_folder = \"/gdrive/My Drive/SOAI/outputs_17_02_2020/\"\n",
        "out_vid_name = os.path.join(out_folder,\"900sec.mp4\")\n",
        "seconds_skip = 0  # number of seconds to skip\n",
        "seconds_count = 30  # number of seconds to process\n",
        "csv_out = os.path.join(out_folder,'Vehicle-list.csv')\n",
        "\n",
        "timeInit = 42795.100\n"
      ],
      "execution_count": 0,
      "outputs": []
    },
    {
      "cell_type": "markdown",
      "metadata": {
        "id": "1LTpSb6IHyDa",
        "colab_type": "text"
      },
      "source": [
        "# Prepare YOLO network"
      ]
    },
    {
      "cell_type": "code",
      "metadata": {
        "scrolled": true,
        "id": "Fo7Pyq_SHyDa",
        "colab_type": "code",
        "outputId": "5faaa969-c665-43a0-da95-23609186fede",
        "colab": {
          "base_uri": "https://localhost:8080/",
          "height": 478
        }
      },
      "source": [
        "yolo = YOLO(score=yolo_score, model_path = model_data_path)"
      ],
      "execution_count": 9,
      "outputs": [
        {
          "output_type": "stream",
          "text": [
            "WARNING:tensorflow:From /usr/local/lib/python3.6/dist-packages/keras/backend/tensorflow_backend.py:190: The name tf.get_default_session is deprecated. Please use tf.compat.v1.get_default_session instead.\n",
            "\n",
            "WARNING:tensorflow:From /usr/local/lib/python3.6/dist-packages/keras/backend/tensorflow_backend.py:207: The name tf.global_variables is deprecated. Please use tf.compat.v1.global_variables instead.\n",
            "\n",
            "WARNING:tensorflow:From /usr/local/lib/python3.6/dist-packages/keras/backend/tensorflow_backend.py:541: The name tf.placeholder is deprecated. Please use tf.compat.v1.placeholder instead.\n",
            "\n",
            "WARNING:tensorflow:From /usr/local/lib/python3.6/dist-packages/keras/backend/tensorflow_backend.py:4432: The name tf.random_uniform is deprecated. Please use tf.random.uniform instead.\n",
            "\n",
            "WARNING:tensorflow:From /usr/local/lib/python3.6/dist-packages/keras/backend/tensorflow_backend.py:66: The name tf.get_default_graph is deprecated. Please use tf.compat.v1.get_default_graph instead.\n",
            "\n",
            "WARNING:tensorflow:From /usr/local/lib/python3.6/dist-packages/keras/backend/tensorflow_backend.py:216: The name tf.is_variable_initialized is deprecated. Please use tf.compat.v1.is_variable_initialized instead.\n",
            "\n",
            "WARNING:tensorflow:From /usr/local/lib/python3.6/dist-packages/keras/backend/tensorflow_backend.py:223: The name tf.variables_initializer is deprecated. Please use tf.compat.v1.variables_initializer instead.\n",
            "\n",
            "WARNING:tensorflow:From /usr/local/lib/python3.6/dist-packages/keras/backend/tensorflow_backend.py:2041: The name tf.nn.fused_batch_norm is deprecated. Please use tf.compat.v1.nn.fused_batch_norm instead.\n",
            "\n",
            "WARNING:tensorflow:From /usr/local/lib/python3.6/dist-packages/keras/backend/tensorflow_backend.py:148: The name tf.placeholder_with_default is deprecated. Please use tf.compat.v1.placeholder_with_default instead.\n",
            "\n",
            "WARNING:tensorflow:From /usr/local/lib/python3.6/dist-packages/keras/backend/tensorflow_backend.py:2239: The name tf.image.resize_nearest_neighbor is deprecated. Please use tf.compat.v1.image.resize_nearest_neighbor instead.\n",
            "\n",
            "/gdrive/My Drive/SOAI/TrafficAnalysis-master/model_data/yolo.h5 model, anchors, and classes loaded.\n",
            "WARNING:tensorflow:From /usr/local/lib/python3.6/dist-packages/tensorflow_core/python/ops/array_ops.py:1475: where (from tensorflow.python.ops.array_ops) is deprecated and will be removed in a future version.\n",
            "Instructions for updating:\n",
            "Use tf.where in 2.0, which has the same broadcast rule as np.where\n"
          ],
          "name": "stdout"
        }
      ]
    },
    {
      "cell_type": "markdown",
      "metadata": {
        "id": "4h0OPKE1HyDi",
        "colab_type": "text"
      },
      "source": [
        "# Prepare CSV"
      ]
    },
    {
      "cell_type": "code",
      "metadata": {
        "id": "T14JekDu2mOL",
        "colab_type": "code",
        "colab": {}
      },
      "source": [
        "df = pd.read_csv(in_csv_name)\n",
        "df['Start'] = pd.to_datetime(df[\"Start-Timestamp\"],format='%m.%d.%Y %H:%M:%S')\n",
        "df['End'] = pd.to_datetime(df[\"End-Timestamp\"],format='%m.%d.%Y %H:%M:%S')\n",
        "df_new =  df[df['Start'] >= startTime] \n",
        "df_new.reset_index(inplace=True)"
      ],
      "execution_count": 0,
      "outputs": []
    },
    {
      "cell_type": "markdown",
      "metadata": {
        "id": "b6GFcNLIm6QM",
        "colab_type": "text"
      },
      "source": [
        "# Run through frames"
      ]
    },
    {
      "cell_type": "code",
      "metadata": {
        "id": "ujCxMycVQY5k",
        "colab_type": "code",
        "outputId": "45d8852e-d90b-43f1-c0f0-ab0c24f82f8b",
        "colab": {
          "base_uri": "https://localhost:8080/",
          "height": 104,
          "referenced_widgets": [
            "f806f20d43f44276b63d860d95cbc4c2",
            "d5d244ba79cf4b8b8c6759eb13ccaaba",
            "9782ddef99f14d19a64fabe64478933b",
            "16d9598b01114ee5a472c96f3b9327e4",
            "31039be7936945149338d2381d2f5d2f",
            "4d9089148d194ebb831922d8a9b18bab",
            "299f9856962f4645a4747d439c2d67a5",
            "db31d4cbefbf4a0588420b72553bb03c"
          ]
        }
      },
      "source": [
        "%%time\n",
        "\n",
        "vidreader = VideoStreamReader(\n",
        "    in_vid_name, seconds_count=seconds_count, seconds_skip=seconds_skip, width=1920, height=1080)\n",
        "vidwriter = VideoStreamWriter(\n",
        "    out_vid_name, width=vidreader.width, height=vidreader.height, fps=vidreader.fps)\n",
        "detection_provider = DetectionProvider(yolo)\n",
        "\n",
        "# define the detection zone??\n",
        "padding = 0\n",
        "frame_bbox = Detection.from_frame(\n",
        "    (vidreader.width, vidreader.height), int(padding))\n",
        "\n",
        "tracker = IOUTracker()\n",
        "\n",
        "csv_writer = True\n",
        "videoShowLOI = True\n",
        "LOIs = [[(450, 400), (600, 850)]]\n",
        "ovwr = 0\n",
        "vehicleInVid = 1.5 #when does the vehice first appears?\n",
        "ovwrInfo = ('-','-','-','-')\n",
        "\n",
        "\n",
        "# initialize .csv\n",
        "with open(csv_out, 'w+') as f:\n",
        "    writer = csv.writer(f)\n",
        "    csv_line = 'timestamp,lane,vehicle,direction'\n",
        "    writer.writerows([csv_line.split(',')])\n",
        "# nice progress bar:\n",
        "pbar = tqdm_notebook(total=vidreader.frame_count - vidreader.frame_skip)\n",
        "\n",
        "# main loop\n",
        "while True:\n",
        "    frame = vidreader.next_frame()\n",
        "    if frame is None:\n",
        "        break\n",
        "    imgName = \"img_%s\" % (vidreader.frame_no)\n",
        "    XMLPathName = os.path.join(out_folder, imgName)\n",
        "    imgPathName = os.path.join(out_folder, imgName)\n",
        "    labelwriter = LabelWriter(XMLPathName, vidreader.width, vidreader.height)\n",
        "    #yolo draws bounding boxes (bb) right into the image.\n",
        "    #Since I want to be able to save images without bb, I have to make a copy:\n",
        "    frame_copy = frame.copy()\n",
        "    captureFrame = False\n",
        "    captureCSV = False\n",
        "    detected = False  \n",
        "    pbar.update()\n",
        "    \n",
        "    #yolo detection: \n",
        "    detections = detection_provider.detect_boxes(frame, vidreader.frame_no)\n",
        "    tracker.update(detections.copy(), frame_bbox)\n",
        "\n",
        "    for track in tracker.active_tracks:\n",
        "        track.likely_class()\n",
        "        track.lane_detector()\n",
        "        #lineDetections = track.csv_detector(LOIs)\n",
        "        # checking for non-car vehicles that cross the \"line of interest\":\n",
        "        for idx, val in enumerate(track.csv_detector(LOIs)):\n",
        "            if val:\n",
        "                #print(\"Detection on: \",idx)\n",
        "                captureFrame = True\n",
        "                captureCSV = True\n",
        "                vTime = vidreader.capture.get(cv2.CAP_PROP_POS_MSEC) / 1000\n",
        "                nowTime = startTime + \\\n",
        "                    pd.Timedelta(seconds=vTime) - \\\n",
        "                    pd.Timedelta(seconds=vehicleInVid)\n",
        "                \n",
        "                # look for a timestamp match in CSV file:\n",
        "                timeRange = pd.Timedelta(seconds=0.7)\n",
        "                matchingRows = df_new.loc[(df_new['Start'] > nowTime.floor('S') - timeRange) \\\n",
        "                    & (df_new['Start'] < nowTime.floor('S') + timeRange)]\n",
        "                #matchingRows = df_new.loc[df_new['Start'].dt.floor(\n",
        "                #    'S') == nowTime.floor('S')]\n",
        "                if not matchingRows.empty:\n",
        "                    probVeh = matchingRows['ExtCatText'].str.lower()\n",
        "                    for vItem in probVeh.iteritems():\n",
        "                        if vItem[1] != \"car\":\n",
        "                            # overwrite vehicle class with data from CSV:\n",
        "                            track.ovwrClass = vItem[1]\n",
        "                    ovwr = vidreader.frame_no + 13\n",
        "                    ovwrInfo = (track.detections[-1].object_class, track.ovwrClass, track.lane, str(nowTime.floor('S')))\n",
        "                    #print(\"found match in csv\")\n",
        "                    \n",
        "        track.show_history(frame)\n",
        "        \n",
        "        if captureCSV:\n",
        "            if track.ovwrClass is not None:\n",
        "                csv_line = str(nowTime) + \",\" + str(track.lane) + \",\" + \\\n",
        "                    str(track.ovwrClass) + \",\" + str(track.direction)\n",
        "            elif track.res is not None:\n",
        "                csv_line = str(nowTime) + \",\" + str(track.lane) + \\\n",
        "                    \",\" + str(track.res) + \",\" + str(track.direction)\n",
        "            else:\n",
        "                print(\"Hä?\")\n",
        "            with open(csv_out, 'a') as f:\n",
        "                writer = csv.writer(f)\n",
        "                (timestamp, lane, vehicle, direction) = csv_line.split(',')\n",
        "                writer.writerows([csv_line.split(',')])\n",
        "                #print(\"writing to csv\")\n",
        "            captureCSV = False\n",
        "\n",
        "        if captureFrame or (ovwr > vidreader.frame_no and (vidreader.frame_no % 4 == 0)):\n",
        "            dbox = track.detections[-1].to_tlbr()\n",
        "            bx1 = dbox[0]\n",
        "            by1 = dbox[1]\n",
        "            bx2 = dbox[2]\n",
        "            by2 = dbox[3]\n",
        "            if track.res is None:\n",
        "                print(\"track.res is None?!\", track.res)\n",
        "                #track.res = track.detections[-1].object_class\n",
        "            if track.ovwrClass is not None:\n",
        "                labelwriter.addObject(track.ovwrClass, bx1, by1, bx2, by2)\n",
        "            elif track.res is not None:\n",
        "                labelwriter.addObject(track.res, bx1, by1, bx2, by2)\n",
        "            else:\n",
        "                labelwriter.addObject(\"unknown\", bx1, by1, bx2, by2)\n",
        "            labelwriter.save(XMLPathName + \".xml\")\n",
        "            #print(\"write xml\")\n",
        "\n",
        "    if videoShowLOI:\n",
        "        vTime = vidreader.capture.get(cv2.CAP_PROP_POS_MSEC) / 1000\n",
        "        nowTime = startTime + \\\n",
        "                    pd.Timedelta(seconds=vTime) - \\\n",
        "                    pd.Timedelta(seconds=vehicleInVid)\n",
        "        show_LOIs(frame, LOIs)        \n",
        "        show_LOI_Info(frame,*ovwrInfo)\n",
        "        \n",
        "    \n",
        "    vidwriter.write(frame)\n",
        "    \n",
        "    #save image every 4 frames if non-car is detected\n",
        "    #or has been detected max. 13 frames before:\n",
        "    if captureFrame or (ovwr > vidreader.frame_no and (vidreader.frame_no % 4 == 0)):\n",
        "        cv2.imwrite(imgPathName + \".jpg\",\n",
        "                    cv2.cvtColor(frame_copy, cv2.COLOR_RGB2BGR))\n",
        "        #print(\"save image\")\n",
        "        \n",
        "\n",
        "pbar.close()\n",
        "vidreader.release()\n",
        "vidwriter.release()\n",
        "print(\"job done\")"
      ],
      "execution_count": 14,
      "outputs": [
        {
          "output_type": "display_data",
          "data": {
            "application/vnd.jupyter.widget-view+json": {
              "model_id": "f806f20d43f44276b63d860d95cbc4c2",
              "version_minor": 0,
              "version_major": 2
            },
            "text/plain": [
              "HBox(children=(IntProgress(value=0, max=250), HTML(value='')))"
            ]
          },
          "metadata": {
            "tags": []
          }
        },
        {
          "output_type": "stream",
          "text": [
            "job done\n",
            "CPU times: user 30.3 s, sys: 830 ms, total: 31.1 s\n",
            "Wall time: 36 s\n"
          ],
          "name": "stdout"
        }
      ]
    },
    {
      "cell_type": "markdown",
      "metadata": {
        "id": "yifJnWggnEau",
        "colab_type": "text"
      },
      "source": [
        "# Functions"
      ]
    },
    {
      "cell_type": "code",
      "metadata": {
        "id": "nnChsem2nKCq",
        "colab_type": "code",
        "colab": {}
      },
      "source": [
        "def process_vid(in_vid_name,seconds_count,yolo,out_folder):\n",
        "  vidreader = VideoStreamReader(\n",
        "    in_vid_name, seconds_count=seconds_count, seconds_skip=seconds_skip, width=1920, height=1080)\n",
        "  detection_provider = DetectionProvider(yolo)\n",
        "\n",
        "  # define the detection zone??\n",
        "  padding = 0\n",
        "  frame_bbox = Detection.from_frame(\n",
        "      (vidreader.width, vidreader.height), int(padding))\n",
        "\n",
        "  tracker = IOUTracker()\n",
        "\n",
        "  ovwr = 0\n",
        "  ovwrInfo = ('-','-','-','-')\n",
        "\n",
        "  # nice progress bar:\n",
        "  pbar = tqdm_notebook(total=vidreader.frame_count - vidreader.frame_skip)\n",
        "\n",
        "  # main loop\n",
        "  while True:\n",
        "    frame = vidreader.next_frame()\n",
        "    if frame is None:\n",
        "        break\n",
        "    imgName = \"img_%s\" % (vidreader.frame_no)\n",
        "    XMLPathName = os.path.join(out_folder, imgName)\n",
        "    imgPathName = os.path.join(out_folder, imgName)\n",
        "    labelwriter = LabelWriter(XMLPathName, vidreader.width, vidreader.height)\n",
        "    #yolo draws bounding boxes (bb) right into the image.\n",
        "    #Since I want to be able to save images without bb, I have to make a copy:\n",
        "    frame_copy = frame.copy()\n",
        "    captureFrame = False\n",
        "    captureCSV = False\n",
        "    detected = False  \n",
        "    pbar.update()\n",
        "    \n",
        "    #yolo detection: \n",
        "    detections = detection_provider.detect_boxes(frame, vidreader.frame_no)\n",
        "    tracker.update(detections.copy(), frame_bbox)\n",
        "\n",
        "    vTime = vidreader.capture.get(cv2.CAP_PROP_POS_MSEC) / 1000\n",
        "    nowTime = startTime + \\\n",
        "              pd.Timedelta(seconds=vTime)              \n",
        "\n",
        "          \n",
        "    for track in tracker.active_tracks:        \n",
        "        track.likely_class()\n",
        "        track.lane_detector()\n",
        "        track.show_history(frame)\n",
        "                \n",
        "        csv_line = str(nowTime) + \",\" + str(track.lane) + \\\n",
        "              \",\" + str(track.res) + \",\" + str(track.direction)\n",
        "      \n",
        "        dbox = track.detections[-1].to_tlbr()\n",
        "        bx1 = dbox[0]\n",
        "        by1 = dbox[1]\n",
        "        bx2 = dbox[2]\n",
        "        by2 = dbox[3]\n",
        "        if track.res is None:\n",
        "          print(\"track.res is None?!\", track.res)\n",
        "        if track.res is not None:\n",
        "          labelwriter.addObject(track.res, bx1, by1, bx2, by2)\n",
        "        else:\n",
        "          labelwriter.addObject(\"unknown\", bx1, by1, bx2, by2)\n",
        "        labelwriter.save(XMLPathName + \".xml\")\n",
        "\n",
        "        with open(csv_out, 'a') as f:\n",
        "            writer = csv.writer(f)\n",
        "            (timestamp, lane, vehicle, direction) = csv_line.split(',')\n",
        "            writer.writerows([csv_line.split(',')])\n",
        "            #print(\"writing to csv\")\n",
        "                            \n",
        "\n",
        "  pbar.close()\n",
        "  vidreader.release()\n",
        "  print(\"job done\")\n"
      ],
      "execution_count": 0,
      "outputs": []
    },
    {
      "cell_type": "code",
      "metadata": {
        "id": "4ho1uV4tsTiY",
        "colab_type": "code",
        "colab": {
          "base_uri": "https://localhost:8080/",
          "height": 67,
          "referenced_widgets": [
            "30fb468182ab4c46b3f7927ea252ed7a",
            "6d53a74a3c5f4f9887f91f3e27dbcbfb",
            "7dcf92101f2f4457b659d2b1c0c59bb6",
            "93756772a8d840609d30a15203f779c8",
            "f5391fe31d2f4eacb4dbadf8e936f2db",
            "47aa978fc92e4fae88eceddb3fd693c8",
            "221e60b90de34c098f931242dd90ac50",
            "3f84637a50124edb8fd6da8ce1a04f6a"
          ]
        },
        "outputId": "053ce027-c825-4cd1-d301-87903c6ee10e"
      },
      "source": [
        "process_vid(in_vid_name,seconds_count,yolo,out_folder)"
      ],
      "execution_count": 32,
      "outputs": [
        {
          "output_type": "display_data",
          "data": {
            "application/vnd.jupyter.widget-view+json": {
              "model_id": "30fb468182ab4c46b3f7927ea252ed7a",
              "version_minor": 0,
              "version_major": 2
            },
            "text/plain": [
              "HBox(children=(IntProgress(value=0, max=750), HTML(value='')))"
            ]
          },
          "metadata": {
            "tags": []
          }
        },
        {
          "output_type": "stream",
          "text": [
            "job done\n"
          ],
          "name": "stdout"
        }
      ]
    }
  ]
}