{
  "nbformat": 4,
  "nbformat_minor": 0,
  "metadata": {
    "colab": {
      "name": "Swiss10_prep.ipynb",
      "provenance": [],
      "collapsed_sections": [
        "c9Y4e2lqnCLP",
        "aWKRGeRGfBaU",
        "QrV1747ruei3",
        "xTpVr2CTuhuX",
        "ADNyDMnUb2vG"
      ],
      "include_colab_link": true
    },
    "kernelspec": {
      "name": "python3",
      "display_name": "Python 3"
    },
    "accelerator": "GPU",
    "widgets": {
      "application/vnd.jupyter.widget-state+json": {
        "f806f20d43f44276b63d860d95cbc4c2": {
          "model_module": "@jupyter-widgets/controls",
          "model_name": "HBoxModel",
          "state": {
            "_view_name": "HBoxView",
            "_dom_classes": [],
            "_model_name": "HBoxModel",
            "_view_module": "@jupyter-widgets/controls",
            "_model_module_version": "1.5.0",
            "_view_count": null,
            "_view_module_version": "1.5.0",
            "box_style": "",
            "layout": "IPY_MODEL_d5d244ba79cf4b8b8c6759eb13ccaaba",
            "_model_module": "@jupyter-widgets/controls",
            "children": [
              "IPY_MODEL_9782ddef99f14d19a64fabe64478933b",
              "IPY_MODEL_16d9598b01114ee5a472c96f3b9327e4"
            ]
          }
        },
        "d5d244ba79cf4b8b8c6759eb13ccaaba": {
          "model_module": "@jupyter-widgets/base",
          "model_name": "LayoutModel",
          "state": {
            "_view_name": "LayoutView",
            "grid_template_rows": null,
            "right": null,
            "justify_content": null,
            "_view_module": "@jupyter-widgets/base",
            "overflow": null,
            "_model_module_version": "1.2.0",
            "_view_count": null,
            "flex_flow": null,
            "width": null,
            "min_width": null,
            "border": null,
            "align_items": null,
            "bottom": null,
            "_model_module": "@jupyter-widgets/base",
            "top": null,
            "grid_column": null,
            "overflow_y": null,
            "overflow_x": null,
            "grid_auto_flow": null,
            "grid_area": null,
            "grid_template_columns": null,
            "flex": null,
            "_model_name": "LayoutModel",
            "justify_items": null,
            "grid_row": null,
            "max_height": null,
            "align_content": null,
            "visibility": null,
            "align_self": null,
            "height": null,
            "min_height": null,
            "padding": null,
            "grid_auto_rows": null,
            "grid_gap": null,
            "max_width": null,
            "order": null,
            "_view_module_version": "1.2.0",
            "grid_template_areas": null,
            "object_position": null,
            "object_fit": null,
            "grid_auto_columns": null,
            "margin": null,
            "display": null,
            "left": null
          }
        },
        "9782ddef99f14d19a64fabe64478933b": {
          "model_module": "@jupyter-widgets/controls",
          "model_name": "IntProgressModel",
          "state": {
            "_view_name": "ProgressView",
            "style": "IPY_MODEL_31039be7936945149338d2381d2f5d2f",
            "_dom_classes": [],
            "description": "",
            "_model_name": "IntProgressModel",
            "bar_style": "success",
            "max": 250,
            "_view_module": "@jupyter-widgets/controls",
            "_model_module_version": "1.5.0",
            "value": 250,
            "_view_count": null,
            "_view_module_version": "1.5.0",
            "orientation": "horizontal",
            "min": 0,
            "description_tooltip": null,
            "_model_module": "@jupyter-widgets/controls",
            "layout": "IPY_MODEL_4d9089148d194ebb831922d8a9b18bab"
          }
        },
        "16d9598b01114ee5a472c96f3b9327e4": {
          "model_module": "@jupyter-widgets/controls",
          "model_name": "HTMLModel",
          "state": {
            "_view_name": "HTMLView",
            "style": "IPY_MODEL_299f9856962f4645a4747d439c2d67a5",
            "_dom_classes": [],
            "description": "",
            "_model_name": "HTMLModel",
            "placeholder": "​",
            "_view_module": "@jupyter-widgets/controls",
            "_model_module_version": "1.5.0",
            "value": "251it [00:35,  8.90it/s]",
            "_view_count": null,
            "_view_module_version": "1.5.0",
            "description_tooltip": null,
            "_model_module": "@jupyter-widgets/controls",
            "layout": "IPY_MODEL_db31d4cbefbf4a0588420b72553bb03c"
          }
        },
        "31039be7936945149338d2381d2f5d2f": {
          "model_module": "@jupyter-widgets/controls",
          "model_name": "ProgressStyleModel",
          "state": {
            "_view_name": "StyleView",
            "_model_name": "ProgressStyleModel",
            "description_width": "",
            "_view_module": "@jupyter-widgets/base",
            "_model_module_version": "1.5.0",
            "_view_count": null,
            "_view_module_version": "1.2.0",
            "bar_color": null,
            "_model_module": "@jupyter-widgets/controls"
          }
        },
        "4d9089148d194ebb831922d8a9b18bab": {
          "model_module": "@jupyter-widgets/base",
          "model_name": "LayoutModel",
          "state": {
            "_view_name": "LayoutView",
            "grid_template_rows": null,
            "right": null,
            "justify_content": null,
            "_view_module": "@jupyter-widgets/base",
            "overflow": null,
            "_model_module_version": "1.2.0",
            "_view_count": null,
            "flex_flow": null,
            "width": null,
            "min_width": null,
            "border": null,
            "align_items": null,
            "bottom": null,
            "_model_module": "@jupyter-widgets/base",
            "top": null,
            "grid_column": null,
            "overflow_y": null,
            "overflow_x": null,
            "grid_auto_flow": null,
            "grid_area": null,
            "grid_template_columns": null,
            "flex": null,
            "_model_name": "LayoutModel",
            "justify_items": null,
            "grid_row": null,
            "max_height": null,
            "align_content": null,
            "visibility": null,
            "align_self": null,
            "height": null,
            "min_height": null,
            "padding": null,
            "grid_auto_rows": null,
            "grid_gap": null,
            "max_width": null,
            "order": null,
            "_view_module_version": "1.2.0",
            "grid_template_areas": null,
            "object_position": null,
            "object_fit": null,
            "grid_auto_columns": null,
            "margin": null,
            "display": null,
            "left": null
          }
        },
        "299f9856962f4645a4747d439c2d67a5": {
          "model_module": "@jupyter-widgets/controls",
          "model_name": "DescriptionStyleModel",
          "state": {
            "_view_name": "StyleView",
            "_model_name": "DescriptionStyleModel",
            "description_width": "",
            "_view_module": "@jupyter-widgets/base",
            "_model_module_version": "1.5.0",
            "_view_count": null,
            "_view_module_version": "1.2.0",
            "_model_module": "@jupyter-widgets/controls"
          }
        },
        "db31d4cbefbf4a0588420b72553bb03c": {
          "model_module": "@jupyter-widgets/base",
          "model_name": "LayoutModel",
          "state": {
            "_view_name": "LayoutView",
            "grid_template_rows": null,
            "right": null,
            "justify_content": null,
            "_view_module": "@jupyter-widgets/base",
            "overflow": null,
            "_model_module_version": "1.2.0",
            "_view_count": null,
            "flex_flow": null,
            "width": null,
            "min_width": null,
            "border": null,
            "align_items": null,
            "bottom": null,
            "_model_module": "@jupyter-widgets/base",
            "top": null,
            "grid_column": null,
            "overflow_y": null,
            "overflow_x": null,
            "grid_auto_flow": null,
            "grid_area": null,
            "grid_template_columns": null,
            "flex": null,
            "_model_name": "LayoutModel",
            "justify_items": null,
            "grid_row": null,
            "max_height": null,
            "align_content": null,
            "visibility": null,
            "align_self": null,
            "height": null,
            "min_height": null,
            "padding": null,
            "grid_auto_rows": null,
            "grid_gap": null,
            "max_width": null,
            "order": null,
            "_view_module_version": "1.2.0",
            "grid_template_areas": null,
            "object_position": null,
            "object_fit": null,
            "grid_auto_columns": null,
            "margin": null,
            "display": null,
            "left": null
          }
        },
        "5a5744508c644eb4a5622d68070c223d": {
          "model_module": "@jupyter-widgets/controls",
          "model_name": "HBoxModel",
          "state": {
            "_view_name": "HBoxView",
            "_dom_classes": [],
            "_model_name": "HBoxModel",
            "_view_module": "@jupyter-widgets/controls",
            "_model_module_version": "1.5.0",
            "_view_count": null,
            "_view_module_version": "1.5.0",
            "box_style": "",
            "layout": "IPY_MODEL_2c910b7470694884960ab4bb34780706",
            "_model_module": "@jupyter-widgets/controls",
            "children": [
              "IPY_MODEL_fb3f03396ca04f1ead6eb366c41b640e",
              "IPY_MODEL_563583281b1b49beb7216f9bf894315c"
            ]
          }
        },
        "2c910b7470694884960ab4bb34780706": {
          "model_module": "@jupyter-widgets/base",
          "model_name": "LayoutModel",
          "state": {
            "_view_name": "LayoutView",
            "grid_template_rows": null,
            "right": null,
            "justify_content": null,
            "_view_module": "@jupyter-widgets/base",
            "overflow": null,
            "_model_module_version": "1.2.0",
            "_view_count": null,
            "flex_flow": null,
            "width": null,
            "min_width": null,
            "border": null,
            "align_items": null,
            "bottom": null,
            "_model_module": "@jupyter-widgets/base",
            "top": null,
            "grid_column": null,
            "overflow_y": null,
            "overflow_x": null,
            "grid_auto_flow": null,
            "grid_area": null,
            "grid_template_columns": null,
            "flex": null,
            "_model_name": "LayoutModel",
            "justify_items": null,
            "grid_row": null,
            "max_height": null,
            "align_content": null,
            "visibility": null,
            "align_self": null,
            "height": null,
            "min_height": null,
            "padding": null,
            "grid_auto_rows": null,
            "grid_gap": null,
            "max_width": null,
            "order": null,
            "_view_module_version": "1.2.0",
            "grid_template_areas": null,
            "object_position": null,
            "object_fit": null,
            "grid_auto_columns": null,
            "margin": null,
            "display": null,
            "left": null
          }
        },
        "fb3f03396ca04f1ead6eb366c41b640e": {
          "model_module": "@jupyter-widgets/controls",
          "model_name": "IntProgressModel",
          "state": {
            "_view_name": "ProgressView",
            "style": "IPY_MODEL_522cb4a6b53945b5910f45fbcdeaaba1",
            "_dom_classes": [],
            "description": "",
            "_model_name": "IntProgressModel",
            "bar_style": "success",
            "max": 250,
            "_view_module": "@jupyter-widgets/controls",
            "_model_module_version": "1.5.0",
            "value": 250,
            "_view_count": null,
            "_view_module_version": "1.5.0",
            "orientation": "horizontal",
            "min": 0,
            "description_tooltip": null,
            "_model_module": "@jupyter-widgets/controls",
            "layout": "IPY_MODEL_2abfa5e7c0b34d86a2cc02ae3261da18"
          }
        },
        "563583281b1b49beb7216f9bf894315c": {
          "model_module": "@jupyter-widgets/controls",
          "model_name": "HTMLModel",
          "state": {
            "_view_name": "HTMLView",
            "style": "IPY_MODEL_0bbc68d39d5e4af19b354486ce2d9500",
            "_dom_classes": [],
            "description": "",
            "_model_name": "HTMLModel",
            "placeholder": "​",
            "_view_module": "@jupyter-widgets/controls",
            "_model_module_version": "1.5.0",
            "value": "251it [00:45,  4.10it/s]",
            "_view_count": null,
            "_view_module_version": "1.5.0",
            "description_tooltip": null,
            "_model_module": "@jupyter-widgets/controls",
            "layout": "IPY_MODEL_9f6446ae4646496b9d22961781be997c"
          }
        },
        "522cb4a6b53945b5910f45fbcdeaaba1": {
          "model_module": "@jupyter-widgets/controls",
          "model_name": "ProgressStyleModel",
          "state": {
            "_view_name": "StyleView",
            "_model_name": "ProgressStyleModel",
            "description_width": "",
            "_view_module": "@jupyter-widgets/base",
            "_model_module_version": "1.5.0",
            "_view_count": null,
            "_view_module_version": "1.2.0",
            "bar_color": null,
            "_model_module": "@jupyter-widgets/controls"
          }
        },
        "2abfa5e7c0b34d86a2cc02ae3261da18": {
          "model_module": "@jupyter-widgets/base",
          "model_name": "LayoutModel",
          "state": {
            "_view_name": "LayoutView",
            "grid_template_rows": null,
            "right": null,
            "justify_content": null,
            "_view_module": "@jupyter-widgets/base",
            "overflow": null,
            "_model_module_version": "1.2.0",
            "_view_count": null,
            "flex_flow": null,
            "width": null,
            "min_width": null,
            "border": null,
            "align_items": null,
            "bottom": null,
            "_model_module": "@jupyter-widgets/base",
            "top": null,
            "grid_column": null,
            "overflow_y": null,
            "overflow_x": null,
            "grid_auto_flow": null,
            "grid_area": null,
            "grid_template_columns": null,
            "flex": null,
            "_model_name": "LayoutModel",
            "justify_items": null,
            "grid_row": null,
            "max_height": null,
            "align_content": null,
            "visibility": null,
            "align_self": null,
            "height": null,
            "min_height": null,
            "padding": null,
            "grid_auto_rows": null,
            "grid_gap": null,
            "max_width": null,
            "order": null,
            "_view_module_version": "1.2.0",
            "grid_template_areas": null,
            "object_position": null,
            "object_fit": null,
            "grid_auto_columns": null,
            "margin": null,
            "display": null,
            "left": null
          }
        },
        "0bbc68d39d5e4af19b354486ce2d9500": {
          "model_module": "@jupyter-widgets/controls",
          "model_name": "DescriptionStyleModel",
          "state": {
            "_view_name": "StyleView",
            "_model_name": "DescriptionStyleModel",
            "description_width": "",
            "_view_module": "@jupyter-widgets/base",
            "_model_module_version": "1.5.0",
            "_view_count": null,
            "_view_module_version": "1.2.0",
            "_model_module": "@jupyter-widgets/controls"
          }
        },
        "9f6446ae4646496b9d22961781be997c": {
          "model_module": "@jupyter-widgets/base",
          "model_name": "LayoutModel",
          "state": {
            "_view_name": "LayoutView",
            "grid_template_rows": null,
            "right": null,
            "justify_content": null,
            "_view_module": "@jupyter-widgets/base",
            "overflow": null,
            "_model_module_version": "1.2.0",
            "_view_count": null,
            "flex_flow": null,
            "width": null,
            "min_width": null,
            "border": null,
            "align_items": null,
            "bottom": null,
            "_model_module": "@jupyter-widgets/base",
            "top": null,
            "grid_column": null,
            "overflow_y": null,
            "overflow_x": null,
            "grid_auto_flow": null,
            "grid_area": null,
            "grid_template_columns": null,
            "flex": null,
            "_model_name": "LayoutModel",
            "justify_items": null,
            "grid_row": null,
            "max_height": null,
            "align_content": null,
            "visibility": null,
            "align_self": null,
            "height": null,
            "min_height": null,
            "padding": null,
            "grid_auto_rows": null,
            "grid_gap": null,
            "max_width": null,
            "order": null,
            "_view_module_version": "1.2.0",
            "grid_template_areas": null,
            "object_position": null,
            "object_fit": null,
            "grid_auto_columns": null,
            "margin": null,
            "display": null,
            "left": null
          }
        }
      }
    }
  },
  "cells": [
    {
      "cell_type": "markdown",
      "metadata": {
        "id": "view-in-github",
        "colab_type": "text"
      },
      "source": [
        "<a href=\"https://colab.research.google.com/github/jmhaussaire/SOAI-Project/blob/master/Swiss10_prep.ipynb\" target=\"_parent\"><img src=\"https://colab.research.google.com/assets/colab-badge.svg\" alt=\"Open In Colab\"/></a>"
      ]
    },
    {
      "cell_type": "markdown",
      "metadata": {
        "id": "g_LB-iYwNnz5",
        "colab_type": "text"
      },
      "source": [
        "# GPU Info"
      ]
    },
    {
      "cell_type": "code",
      "metadata": {
        "id": "qtyD9Txh9SQz",
        "colab_type": "code",
        "outputId": "bc635771-6d22-4a32-d89d-9ea8c7cf6a3e",
        "colab": {
          "base_uri": "https://localhost:8080/",
          "height": 311
        }
      },
      "source": [
        "!git clone https://github.com/jmhaussaire/SOAI-Project.git\n",
        "import os\n",
        "os.chdir('SOAI-Project')\n",
        "!ls"
      ],
      "execution_count": 1,
      "outputs": [
        {
          "output_type": "stream",
          "text": [
            "Cloning into 'SOAI-Project'...\n",
            "remote: Enumerating objects: 109, done.\u001b[K\n",
            "remote: Counting objects:   0% (1/109)\u001b[K\rremote: Counting objects:   1% (2/109)\u001b[K\rremote: Counting objects:   2% (3/109)\u001b[K\rremote: Counting objects:   3% (4/109)\u001b[K\rremote: Counting objects:   4% (5/109)\u001b[K\rremote: Counting objects:   5% (6/109)\u001b[K\rremote: Counting objects:   6% (7/109)\u001b[K\rremote: Counting objects:   7% (8/109)\u001b[K\rremote: Counting objects:   8% (9/109)\u001b[K\rremote: Counting objects:   9% (10/109)\u001b[K\rremote: Counting objects:  10% (11/109)\u001b[K\rremote: Counting objects:  11% (12/109)\u001b[K\rremote: Counting objects:  12% (14/109)\u001b[K\rremote: Counting objects:  13% (15/109)\u001b[K\rremote: Counting objects:  14% (16/109)\u001b[K\rremote: Counting objects:  15% (17/109)\u001b[K\rremote: Counting objects:  16% (18/109)\u001b[K\rremote: Counting objects:  17% (19/109)\u001b[K\rremote: Counting objects:  18% (20/109)\u001b[K\rremote: Counting objects:  19% (21/109)\u001b[K\rremote: Counting objects:  20% (22/109)\u001b[K\rremote: Counting objects:  21% (23/109)\u001b[K\rremote: Counting objects:  22% (24/109)\u001b[K\rremote: Counting objects:  23% (26/109)\u001b[K\rremote: Counting objects:  24% (27/109)\u001b[K\rremote: Counting objects:  25% (28/109)\u001b[K\rremote: Counting objects:  26% (29/109)\u001b[K\rremote: Counting objects:  27% (30/109)\u001b[K\rremote: Counting objects:  28% (31/109)\u001b[K\rremote: Counting objects:  29% (32/109)\u001b[K\rremote: Counting objects:  30% (33/109)\u001b[K\rremote: Counting objects:  31% (34/109)\u001b[K\rremote: Counting objects:  32% (35/109)\u001b[K\rremote: Counting objects:  33% (36/109)\u001b[K\rremote: Counting objects:  34% (38/109)\u001b[K\rremote: Counting objects:  35% (39/109)\u001b[K\rremote: Counting objects:  36% (40/109)\u001b[K\rremote: Counting objects:  37% (41/109)\u001b[K\rremote: Counting objects:  38% (42/109)\u001b[K\rremote: Counting objects:  39% (43/109)\u001b[K\rremote: Counting objects:  40% (44/109)\u001b[K\rremote: Counting objects:  41% (45/109)\u001b[K\rremote: Counting objects:  42% (46/109)\u001b[K\rremote: Counting objects:  43% (47/109)\u001b[K\rremote: Counting objects:  44% (48/109)\u001b[K\rremote: Counting objects:  45% (50/109)\u001b[K\rremote: Counting objects:  46% (51/109)\u001b[K\rremote: Counting objects:  47% (52/109)\u001b[K\rremote: Counting objects:  48% (53/109)\u001b[K\rremote: Counting objects:  49% (54/109)\u001b[K\rremote: Counting objects:  50% (55/109)\u001b[K\rremote: Counting objects:  51% (56/109)\u001b[K\rremote: Counting objects:  52% (57/109)\u001b[K\rremote: Counting objects:  53% (58/109)\u001b[K\rremote: Counting objects:  54% (59/109)\u001b[K\rremote: Counting objects:  55% (60/109)\u001b[K\rremote: Counting objects:  56% (62/109)\u001b[K\rremote: Counting objects:  57% (63/109)\u001b[K\rremote: Counting objects:  58% (64/109)\u001b[K\rremote: Counting objects:  59% (65/109)\u001b[K\rremote: Counting objects:  60% (66/109)\u001b[K\rremote: Counting objects:  61% (67/109)\u001b[K\rremote: Counting objects:  62% (68/109)\u001b[K\rremote: Counting objects:  63% (69/109)\u001b[K\rremote: Counting objects:  64% (70/109)\u001b[K\rremote: Counting objects:  65% (71/109)\u001b[K\rremote: Counting objects:  66% (72/109)\u001b[K\rremote: Counting objects:  67% (74/109)\u001b[K\rremote: Counting objects:  68% (75/109)\u001b[K\rremote: Counting objects:  69% (76/109)\u001b[K\rremote: Counting objects:  70% (77/109)\u001b[K\rremote: Counting objects:  71% (78/109)\u001b[K\rremote: Counting objects:  72% (79/109)\u001b[K\rremote: Counting objects:  73% (80/109)\u001b[K\rremote: Counting objects:  74% (81/109)\u001b[K\rremote: Counting objects:  75% (82/109)\u001b[K\rremote: Counting objects:  76% (83/109)\u001b[K\rremote: Counting objects:  77% (84/109)\u001b[K\rremote: Counting objects:  78% (86/109)\u001b[K\rremote: Counting objects:  79% (87/109)\u001b[K\rremote: Counting objects:  80% (88/109)\u001b[K\rremote: Counting objects:  81% (89/109)\u001b[K\rremote: Counting objects:  82% (90/109)\u001b[K\rremote: Counting objects:  83% (91/109)\u001b[K\rremote: Counting objects:  84% (92/109)\u001b[K\rremote: Counting objects:  85% (93/109)\u001b[K\rremote: Counting objects:  86% (94/109)\u001b[K\rremote: Counting objects:  87% (95/109)\u001b[K\rremote: Counting objects:  88% (96/109)\u001b[K\rremote: Counting objects:  89% (98/109)\u001b[K\rremote: Counting objects:  90% (99/109)\u001b[K\rremote: Counting objects:  91% (100/109)\u001b[K\rremote: Counting objects:  92% (101/109)\u001b[K\rremote: Counting objects:  93% (102/109)\u001b[K\rremote: Counting objects:  94% (103/109)\u001b[K\rremote: Counting objects:  95% (104/109)\u001b[K\rremote: Counting objects:  96% (105/109)\u001b[K\rremote: Counting objects:  97% (106/109)\u001b[K\rremote: Counting objects:  98% (107/109)\u001b[K\rremote: Counting objects:  99% (108/109)\u001b[K\rremote: Counting objects: 100% (109/109)\u001b[K\rremote: Counting objects: 100% (109/109), done.\u001b[K\n",
            "remote: Compressing objects: 100% (106/106), done.\u001b[K\n",
            "remote: Total 109 (delta 47), reused 0 (delta 0), pack-reused 0\u001b[K\n",
            "Receiving objects: 100% (109/109), 3.95 MiB | 13.44 MiB/s, done.\n",
            "Resolving deltas: 100% (47/47), done.\n",
            "classification.ipynb\t    model_data\n",
            "classification.py\t    README.md\n",
            "common.py\t\t    Swiss10_prep.ipynb\n",
            "CVTracker.py\t\t    TrafficCamera_DetectionAndTrackingIOU.ipynb\n",
            "DetectionAndTrackingCV.py   TrafficCamera_DetectionAndTracking.ipynb\n",
            "DetectionAndTrackingIOU.py  video.py\n",
            "detectionprovider.py\t    yolo3\n",
            "IOUTracker.py\t\t    yolo.py\n",
            "LICENSE\n"
          ],
          "name": "stdout"
        }
      ]
    },
    {
      "cell_type": "code",
      "metadata": {
        "id": "0riKiy-0F_-x",
        "colab_type": "code",
        "colab": {
          "base_uri": "https://localhost:8080/",
          "height": 329
        },
        "outputId": "0e02c72c-4a95-4903-da5a-1ce6b468bcf8"
      },
      "source": [
        "!nvidia-smi"
      ],
      "execution_count": 2,
      "outputs": [
        {
          "output_type": "stream",
          "text": [
            "Thu Feb 27 19:40:42 2020       \n",
            "+-----------------------------------------------------------------------------+\n",
            "| NVIDIA-SMI 440.48.02    Driver Version: 418.67       CUDA Version: 10.1     |\n",
            "|-------------------------------+----------------------+----------------------+\n",
            "| GPU  Name        Persistence-M| Bus-Id        Disp.A | Volatile Uncorr. ECC |\n",
            "| Fan  Temp  Perf  Pwr:Usage/Cap|         Memory-Usage | GPU-Util  Compute M. |\n",
            "|===============================+======================+======================|\n",
            "|   0  Tesla P100-PCIE...  Off  | 00000000:00:04.0 Off |                    0 |\n",
            "| N/A   34C    P0    25W / 250W |      0MiB / 16280MiB |      0%      Default |\n",
            "+-------------------------------+----------------------+----------------------+\n",
            "                                                                               \n",
            "+-----------------------------------------------------------------------------+\n",
            "| Processes:                                                       GPU Memory |\n",
            "|  GPU       PID   Type   Process name                             Usage      |\n",
            "|=============================================================================|\n",
            "|  No running processes found                                                 |\n",
            "+-----------------------------------------------------------------------------+\n"
          ],
          "name": "stdout"
        }
      ]
    },
    {
      "cell_type": "markdown",
      "metadata": {
        "id": "6md-vM52HyDJ",
        "colab_type": "text"
      },
      "source": [
        "# Imports"
      ]
    },
    {
      "cell_type": "code",
      "metadata": {
        "id": "hoWeJ2m3LBHY",
        "colab_type": "code",
        "outputId": "9a2f493e-3b97-4d69-accd-ba91bf611272",
        "colab": {
          "base_uri": "https://localhost:8080/",
          "height": 129
        }
      },
      "source": [
        "%reload_ext autoreload\n",
        "%autoreload 2\n",
        "from os.path import join\n",
        "from google.colab import drive\n",
        "drive.mount('/gdrive')"
      ],
      "execution_count": 3,
      "outputs": [
        {
          "output_type": "stream",
          "text": [
            "Go to this URL in a browser: https://accounts.google.com/o/oauth2/auth?client_id=947318989803-6bn6qk8qdgf4n4g3pfee6491hc0brc4i.apps.googleusercontent.com&redirect_uri=urn%3aietf%3awg%3aoauth%3a2.0%3aoob&response_type=code&scope=email%20https%3a%2f%2fwww.googleapis.com%2fauth%2fdocs.test%20https%3a%2f%2fwww.googleapis.com%2fauth%2fdrive%20https%3a%2f%2fwww.googleapis.com%2fauth%2fdrive.photos.readonly%20https%3a%2f%2fwww.googleapis.com%2fauth%2fpeopleapi.readonly\n",
            "\n",
            "Enter your authorization code:\n",
            "··········\n",
            "Mounted at /gdrive\n"
          ],
          "name": "stdout"
        }
      ]
    },
    {
      "cell_type": "markdown",
      "metadata": {
        "id": "CeWMPcXA70AX",
        "colab_type": "text"
      },
      "source": [
        "Remount drive"
      ]
    },
    {
      "cell_type": "code",
      "metadata": {
        "id": "p37bp86i7zbN",
        "colab_type": "code",
        "outputId": "2ee6acc1-c771-4fca-f4a4-a63bcd405c74",
        "colab": {
          "base_uri": "https://localhost:8080/",
          "height": 35
        }
      },
      "source": [
        "drive.mount(\"/gdrive\", force_remount=True)"
      ],
      "execution_count": 13,
      "outputs": [
        {
          "output_type": "stream",
          "text": [
            "Mounted at /gdrive\n"
          ],
          "name": "stdout"
        }
      ]
    },
    {
      "cell_type": "code",
      "metadata": {
        "id": "TiuCRbPqaoT9",
        "colab_type": "code",
        "colab": {}
      },
      "source": [
        "!pip install -q pascal-voc-writer"
      ],
      "execution_count": 0,
      "outputs": []
    },
    {
      "cell_type": "code",
      "metadata": {
        "id": "2a1sonFNHyDL",
        "colab_type": "code",
        "outputId": "52711d5a-1589-47c8-bb9f-4eb78d9ba418",
        "colab": {
          "base_uri": "https://localhost:8080/",
          "height": 194
        }
      },
      "source": [
        "import matplotlib.pyplot as plt\n",
        "from detectionprovider import DetectionProvider\n",
        "from common import limit_gpu_memory, Detection, show_LOIs, show_LOI_Info\n",
        "from IOUTracker import IOUTracker\n",
        "from video import VideoStreamReader, VideoStreamWriter\n",
        "from yolo import YOLO\n",
        "from tqdm import tqdm_notebook\n",
        "import numpy as np\n",
        "limit_gpu_memory(0.7)\n",
        "import cv2\n",
        "from pascal_voc_writer import Writer as LabelWriter\n",
        "import csv\n",
        "import time\n",
        "from datetime import datetime\n",
        "import pandas as pd"
      ],
      "execution_count": 6,
      "outputs": [
        {
          "output_type": "display_data",
          "data": {
            "text/html": [
              "<p style=\"color: red;\">\n",
              "The default version of TensorFlow in Colab will soon switch to TensorFlow 2.x.<br>\n",
              "We recommend you <a href=\"https://www.tensorflow.org/guide/migrate\" target=\"_blank\">upgrade</a> now \n",
              "or ensure your notebook will continue to use TensorFlow 1.x via the <code>%tensorflow_version 1.x</code> magic:\n",
              "<a href=\"https://colab.research.google.com/notebooks/tensorflow_version.ipynb\" target=\"_blank\">more info</a>.</p>\n"
            ],
            "text/plain": [
              "<IPython.core.display.HTML object>"
            ]
          },
          "metadata": {
            "tags": []
          }
        },
        {
          "output_type": "stream",
          "text": [
            "Using TensorFlow backend.\n"
          ],
          "name": "stderr"
        },
        {
          "output_type": "stream",
          "text": [
            "WARNING:tensorflow:From /content/SOAI-Project/common.py:43: The name tf.ConfigProto is deprecated. Please use tf.compat.v1.ConfigProto instead.\n",
            "\n",
            "WARNING:tensorflow:From /content/SOAI-Project/common.py:45: The name tf.Session is deprecated. Please use tf.compat.v1.Session instead.\n",
            "\n"
          ],
          "name": "stdout"
        }
      ]
    },
    {
      "cell_type": "markdown",
      "metadata": {
        "id": "csRmCH2fi-dw",
        "colab_type": "text"
      },
      "source": [
        "# Parameters\n"
      ]
    },
    {
      "cell_type": "code",
      "metadata": {
        "id": "2_aAEjPhi9Si",
        "colab_type": "code",
        "colab": {}
      },
      "source": [
        "import os\n",
        "\n",
        "# YOLO\n",
        "yolo_score = 0.6\n",
        "model_data_path = \"/gdrive/My Drive/SOAI/TrafficAnalysis-master/model_data/yolo.h5\"\n",
        "\n",
        "# Inputs\n",
        "data_path = \"/gdrive/My Drive/SOAI/TrafficAnalysis-master/\"\n",
        "in_csv_name = os.path.join(data_path,'Vehicles_2016-05-10.csv')\n",
        "startTime = pd.to_datetime('10.05.2016 11:53:16')\n",
        "in_vid_name = os.path.join(data_path,\"MAH00004.MP4\")\n",
        "\n",
        "# Outputs\n",
        "out_folder = \"/gdrive/My Drive/SOAI/outputs_27_02_2020/\"\n",
        "out_vid_name = os.path.join(out_folder,\"900sec.mp4\")\n",
        "seconds_skip = 0  # number of seconds to skip\n",
        "seconds_count = 10  # number of seconds to process\n",
        "csv_out = os.path.join(out_folder,'Vehicle-list.csv')\n",
        "\n",
        "timeInit = 42795.100\n"
      ],
      "execution_count": 0,
      "outputs": []
    },
    {
      "cell_type": "markdown",
      "metadata": {
        "id": "1LTpSb6IHyDa",
        "colab_type": "text"
      },
      "source": [
        "# Prepare YOLO network"
      ]
    },
    {
      "cell_type": "code",
      "metadata": {
        "scrolled": true,
        "id": "Fo7Pyq_SHyDa",
        "colab_type": "code",
        "outputId": "2555077e-a0a0-4adf-c0f9-5655f54da6f5",
        "colab": {
          "base_uri": "https://localhost:8080/",
          "height": 478
        }
      },
      "source": [
        "yolo = YOLO(score=yolo_score, model_path = model_data_path)"
      ],
      "execution_count": 8,
      "outputs": [
        {
          "output_type": "stream",
          "text": [
            "WARNING:tensorflow:From /usr/local/lib/python3.6/dist-packages/keras/backend/tensorflow_backend.py:190: The name tf.get_default_session is deprecated. Please use tf.compat.v1.get_default_session instead.\n",
            "\n",
            "WARNING:tensorflow:From /usr/local/lib/python3.6/dist-packages/keras/backend/tensorflow_backend.py:207: The name tf.global_variables is deprecated. Please use tf.compat.v1.global_variables instead.\n",
            "\n",
            "WARNING:tensorflow:From /usr/local/lib/python3.6/dist-packages/keras/backend/tensorflow_backend.py:541: The name tf.placeholder is deprecated. Please use tf.compat.v1.placeholder instead.\n",
            "\n",
            "WARNING:tensorflow:From /usr/local/lib/python3.6/dist-packages/keras/backend/tensorflow_backend.py:4432: The name tf.random_uniform is deprecated. Please use tf.random.uniform instead.\n",
            "\n",
            "WARNING:tensorflow:From /usr/local/lib/python3.6/dist-packages/keras/backend/tensorflow_backend.py:66: The name tf.get_default_graph is deprecated. Please use tf.compat.v1.get_default_graph instead.\n",
            "\n",
            "WARNING:tensorflow:From /usr/local/lib/python3.6/dist-packages/keras/backend/tensorflow_backend.py:216: The name tf.is_variable_initialized is deprecated. Please use tf.compat.v1.is_variable_initialized instead.\n",
            "\n",
            "WARNING:tensorflow:From /usr/local/lib/python3.6/dist-packages/keras/backend/tensorflow_backend.py:223: The name tf.variables_initializer is deprecated. Please use tf.compat.v1.variables_initializer instead.\n",
            "\n",
            "WARNING:tensorflow:From /usr/local/lib/python3.6/dist-packages/keras/backend/tensorflow_backend.py:2041: The name tf.nn.fused_batch_norm is deprecated. Please use tf.compat.v1.nn.fused_batch_norm instead.\n",
            "\n",
            "WARNING:tensorflow:From /usr/local/lib/python3.6/dist-packages/keras/backend/tensorflow_backend.py:148: The name tf.placeholder_with_default is deprecated. Please use tf.compat.v1.placeholder_with_default instead.\n",
            "\n",
            "WARNING:tensorflow:From /usr/local/lib/python3.6/dist-packages/keras/backend/tensorflow_backend.py:2239: The name tf.image.resize_nearest_neighbor is deprecated. Please use tf.compat.v1.image.resize_nearest_neighbor instead.\n",
            "\n",
            "/gdrive/My Drive/SOAI/TrafficAnalysis-master/model_data/yolo.h5 model, anchors, and classes loaded.\n",
            "WARNING:tensorflow:From /usr/local/lib/python3.6/dist-packages/tensorflow_core/python/ops/array_ops.py:1475: where (from tensorflow.python.ops.array_ops) is deprecated and will be removed in a future version.\n",
            "Instructions for updating:\n",
            "Use tf.where in 2.0, which has the same broadcast rule as np.where\n"
          ],
          "name": "stdout"
        }
      ]
    },
    {
      "cell_type": "markdown",
      "metadata": {
        "id": "4h0OPKE1HyDi",
        "colab_type": "text"
      },
      "source": [
        "# Prepare CSV"
      ]
    },
    {
      "cell_type": "code",
      "metadata": {
        "id": "T14JekDu2mOL",
        "colab_type": "code",
        "colab": {}
      },
      "source": [
        "df = pd.read_csv(in_csv_name)\n",
        "df['Start'] = pd.to_datetime(df[\"Start-Timestamp\"],format='%m.%d.%Y %H:%M:%S')\n",
        "df['End'] = pd.to_datetime(df[\"End-Timestamp\"],format='%m.%d.%Y %H:%M:%S')\n",
        "df_new =  df[df['Start'] >= startTime] \n",
        "df_new.reset_index(inplace=True)"
      ],
      "execution_count": 0,
      "outputs": []
    },
    {
      "cell_type": "markdown",
      "metadata": {
        "id": "b6GFcNLIm6QM",
        "colab_type": "text"
      },
      "source": [
        "# Run through frames"
      ]
    },
    {
      "cell_type": "code",
      "metadata": {
        "id": "ujCxMycVQY5k",
        "colab_type": "code",
        "outputId": "45d8852e-d90b-43f1-c0f0-ab0c24f82f8b",
        "colab": {
          "base_uri": "https://localhost:8080/",
          "height": 104,
          "referenced_widgets": [
            "f806f20d43f44276b63d860d95cbc4c2",
            "d5d244ba79cf4b8b8c6759eb13ccaaba",
            "9782ddef99f14d19a64fabe64478933b",
            "16d9598b01114ee5a472c96f3b9327e4",
            "31039be7936945149338d2381d2f5d2f",
            "4d9089148d194ebb831922d8a9b18bab",
            "299f9856962f4645a4747d439c2d67a5",
            "db31d4cbefbf4a0588420b72553bb03c"
          ]
        }
      },
      "source": [
        "%%time\n",
        "\n",
        "vidreader = VideoStreamReader(\n",
        "    in_vid_name, seconds_count=seconds_count, seconds_skip=seconds_skip, width=1920, height=1080)\n",
        "vidwriter = VideoStreamWriter(\n",
        "    out_vid_name, width=vidreader.width, height=vidreader.height, fps=vidreader.fps)\n",
        "detection_provider = DetectionProvider(yolo)\n",
        "\n",
        "# define the detection zone??\n",
        "padding = 0\n",
        "frame_bbox = Detection.from_frame(\n",
        "    (vidreader.width, vidreader.height), int(padding))\n",
        "\n",
        "tracker = IOUTracker()\n",
        "\n",
        "csv_writer = True\n",
        "videoShowLOI = True\n",
        "LOIs = [[(450, 400), (600, 850)]]\n",
        "ovwr = 0\n",
        "vehicleInVid = 1.5 #when does the vehice first appears?\n",
        "ovwrInfo = ('-','-','-','-')\n",
        "\n",
        "\n",
        "# initialize .csv\n",
        "with open(csv_out, 'w+') as f:\n",
        "    writer = csv.writer(f)\n",
        "    csv_line = 'timestamp,lane,vehicle,direction'\n",
        "    writer.writerows([csv_line.split(',')])\n",
        "# nice progress bar:\n",
        "pbar = tqdm_notebook(total=vidreader.frame_count - vidreader.frame_skip)\n",
        "\n",
        "# main loop\n",
        "while True:\n",
        "    frame = vidreader.next_frame()\n",
        "    if frame is None:\n",
        "        break\n",
        "    imgName = \"img_%s\" % (vidreader.frame_no)\n",
        "    XMLPathName = os.path.join(out_folder, imgName)\n",
        "    imgPathName = os.path.join(out_folder, imgName)\n",
        "    labelwriter = LabelWriter(XMLPathName, vidreader.width, vidreader.height)\n",
        "    #yolo draws bounding boxes (bb) right into the image.\n",
        "    #Since I want to be able to save images without bb, I have to make a copy:\n",
        "    frame_copy = frame.copy()\n",
        "    captureFrame = False\n",
        "    captureCSV = False\n",
        "    detected = False  \n",
        "    pbar.update()\n",
        "    \n",
        "    #yolo detection: \n",
        "    detections = detection_provider.detect_boxes(frame, vidreader.frame_no)\n",
        "    tracker.update(detections.copy(), frame_bbox)\n",
        "\n",
        "    for track in tracker.active_tracks:\n",
        "        track.likely_class()\n",
        "        track.lane_detector()\n",
        "        #lineDetections = track.csv_detector(LOIs)\n",
        "        # checking for non-car vehicles that cross the \"line of interest\":\n",
        "        for idx, val in enumerate(track.csv_detector(LOIs)):\n",
        "            if val:\n",
        "                #print(\"Detection on: \",idx)\n",
        "                captureFrame = True\n",
        "                captureCSV = True\n",
        "                vTime = vidreader.capture.get(cv2.CAP_PROP_POS_MSEC) / 1000\n",
        "                nowTime = startTime + \\\n",
        "                    pd.Timedelta(seconds=vTime) - \\\n",
        "                    pd.Timedelta(seconds=vehicleInVid)\n",
        "                \n",
        "                # look for a timestamp match in CSV file:\n",
        "                timeRange = pd.Timedelta(seconds=0.7)\n",
        "                matchingRows = df_new.loc[(df_new['Start'] > nowTime.floor('S') - timeRange) \\\n",
        "                    & (df_new['Start'] < nowTime.floor('S') + timeRange)]\n",
        "                #matchingRows = df_new.loc[df_new['Start'].dt.floor(\n",
        "                #    'S') == nowTime.floor('S')]\n",
        "                if not matchingRows.empty:\n",
        "                    probVeh = matchingRows['ExtCatText'].str.lower()\n",
        "                    for vItem in probVeh.iteritems():\n",
        "                        if vItem[1] != \"car\":\n",
        "                            # overwrite vehicle class with data from CSV:\n",
        "                            track.ovwrClass = vItem[1]\n",
        "                    ovwr = vidreader.frame_no + 13\n",
        "                    ovwrInfo = (track.detections[-1].object_class, track.ovwrClass, track.lane, str(nowTime.floor('S')))\n",
        "                    #print(\"found match in csv\")\n",
        "                    \n",
        "        track.show_history(frame)\n",
        "        \n",
        "        if captureCSV:\n",
        "            if track.ovwrClass is not None:\n",
        "                csv_line = str(nowTime) + \",\" + str(track.lane) + \",\" + \\\n",
        "                    str(track.ovwrClass) + \",\" + str(track.direction)\n",
        "            elif track.res is not None:\n",
        "                csv_line = str(nowTime) + \",\" + str(track.lane) + \\\n",
        "                    \",\" + str(track.res) + \",\" + str(track.direction)\n",
        "            else:\n",
        "                print(\"Hä?\")\n",
        "            with open(csv_out, 'a') as f:\n",
        "                writer = csv.writer(f)\n",
        "                (timestamp, lane, vehicle, direction) = csv_line.split(',')\n",
        "                writer.writerows([csv_line.split(',')])\n",
        "                #print(\"writing to csv\")\n",
        "            captureCSV = False\n",
        "\n",
        "        if captureFrame or (ovwr > vidreader.frame_no and (vidreader.frame_no % 4 == 0)):\n",
        "            dbox = track.detections[-1].to_tlbr()\n",
        "            bx1 = dbox[0]\n",
        "            by1 = dbox[1]\n",
        "            bx2 = dbox[2]\n",
        "            by2 = dbox[3]\n",
        "            if track.res is None:\n",
        "                print(\"track.res is None?!\", track.res)\n",
        "                #track.res = track.detections[-1].object_class\n",
        "            if track.ovwrClass is not None:\n",
        "                labelwriter.addObject(track.ovwrClass, bx1, by1, bx2, by2)\n",
        "            elif track.res is not None:\n",
        "                labelwriter.addObject(track.res, bx1, by1, bx2, by2)\n",
        "            else:\n",
        "                labelwriter.addObject(\"unknown\", bx1, by1, bx2, by2)\n",
        "            labelwriter.save(XMLPathName + \".xml\")\n",
        "            #print(\"write xml\")\n",
        "\n",
        "    if videoShowLOI:\n",
        "        vTime = vidreader.capture.get(cv2.CAP_PROP_POS_MSEC) / 1000\n",
        "        nowTime = startTime + \\\n",
        "                    pd.Timedelta(seconds=vTime) - \\\n",
        "                    pd.Timedelta(seconds=vehicleInVid)\n",
        "        show_LOIs(frame, LOIs)        \n",
        "        show_LOI_Info(frame,*ovwrInfo)\n",
        "        \n",
        "    \n",
        "    vidwriter.write(frame)\n",
        "    \n",
        "    #save image every 4 frames if non-car is detected\n",
        "    #or has been detected max. 13 frames before:\n",
        "    if captureFrame or (ovwr > vidreader.frame_no and (vidreader.frame_no % 4 == 0)):\n",
        "        cv2.imwrite(imgPathName + \".jpg\",\n",
        "                    cv2.cvtColor(frame_copy, cv2.COLOR_RGB2BGR))\n",
        "        #print(\"save image\")\n",
        "        \n",
        "\n",
        "pbar.close()\n",
        "vidreader.release()\n",
        "vidwriter.release()\n",
        "print(\"job done\")"
      ],
      "execution_count": 0,
      "outputs": [
        {
          "output_type": "display_data",
          "data": {
            "application/vnd.jupyter.widget-view+json": {
              "model_id": "f806f20d43f44276b63d860d95cbc4c2",
              "version_minor": 0,
              "version_major": 2
            },
            "text/plain": [
              "HBox(children=(IntProgress(value=0, max=250), HTML(value='')))"
            ]
          },
          "metadata": {
            "tags": []
          }
        },
        {
          "output_type": "stream",
          "text": [
            "job done\n",
            "CPU times: user 30.3 s, sys: 830 ms, total: 31.1 s\n",
            "Wall time: 36 s\n"
          ],
          "name": "stdout"
        }
      ]
    },
    {
      "cell_type": "markdown",
      "metadata": {
        "id": "yifJnWggnEau",
        "colab_type": "text"
      },
      "source": [
        "# Functions"
      ]
    },
    {
      "cell_type": "code",
      "metadata": {
        "id": "CkUkZ_BiENt3",
        "colab_type": "code",
        "colab": {}
      },
      "source": [
        "def process_vid(in_vid_name,seconds_count,yolo,out_folder):\n",
        "  \"\"\"\n",
        "  Look at every frame of the video and categorise the vehicles.\n",
        "  Output an xml file listing the tracks, and a picture with the box.\n",
        "  \"\"\"\n",
        "  %%time\n",
        "\n",
        "  vidreader = VideoStreamReader(\n",
        "      in_vid_name, seconds_count=seconds_count, seconds_skip=seconds_skip, width=1920, height=1080)\n",
        "  vidwriter = VideoStreamWriter(\n",
        "      out_vid_name, width=vidreader.width, height=vidreader.height, fps=vidreader.fps)\n",
        "  detection_provider = DetectionProvider(yolo)\n",
        "\n",
        "  # define the detection zone??\n",
        "  padding = 0\n",
        "  frame_bbox = Detection.from_frame(\n",
        "      (vidreader.width, vidreader.height), int(padding))\n",
        "\n",
        "  tracker = IOUTracker()\n",
        "\n",
        "  csv_writer = True  \n",
        "  ovwrInfo = ('-','-','-','-')\n",
        "\n",
        "\n",
        "  # initialize .csv\n",
        "  with open(csv_out, 'w+') as f:\n",
        "      writer = csv.writer(f)\n",
        "      csv_line = 'timestamp,vehicle,direction'\n",
        "      writer.writerows([csv_line.split(',')])\n",
        "  # nice progress bar:\n",
        "  pbar = tqdm_notebook(total=vidreader.frame_count - vidreader.frame_skip)\n",
        "\n",
        "  # main loop\n",
        "  while True:\n",
        "    frame = vidreader.next_frame()\n",
        "    if frame is None:\n",
        "        break\n",
        "    imgName = \"img_%s\" % (vidreader.frame_no)\n",
        "    XMLPathName = os.path.join(out_folder, imgName)\n",
        "    imgPathName = os.path.join(out_folder, imgName)\n",
        "    labelwriter = LabelWriter(XMLPathName, vidreader.width, vidreader.height)\n",
        "    #yolo draws bounding boxes (bb) right into the image.\n",
        "    #Since I want to be able to save images without bb, I have to make a copy:\n",
        "    frame_copy = frame.copy()\n",
        "    captureFrame = True\n",
        "    captureCSV = True    \n",
        "    pbar.update()\n",
        "    \n",
        "    #yolo detection: \n",
        "    detections = detection_provider.detect_boxes(frame, vidreader.frame_no)\n",
        "    tracker.update(detections.copy(), frame_bbox)\n",
        "\n",
        "    for track in tracker.active_tracks:\n",
        "        track.likely_class()\n",
        "        # I don't know yet the lane or the LOI\n",
        "        # track.lane_detector()\n",
        "        # lineDetections = track.csv_detector(LOIs)\n",
        "        track.show_history(frame)\n",
        "        \n",
        "        vTime = vidreader.capture.get(cv2.CAP_PROP_POS_MSEC) / 1000\n",
        "        nowTime = startTime + \\\n",
        "                  pd.Timedelta(seconds=vTime)\n",
        "\n",
        "        if captureCSV:\n",
        "            if track.ovwrClass is not None:\n",
        "                csv_line = str(nowTime) + \",\" + \\\n",
        "                    str(track.ovwrClass) + \",\" + str(track.direction)\n",
        "            elif track.res is not None:\n",
        "                csv_line = str(nowTime) + \",\" + \\\n",
        "                     str(track.res) + \",\" + str(track.direction)\n",
        "            else:\n",
        "                print(\"Hä?\")\n",
        "            with open(csv_out, 'a') as f:\n",
        "                writer = csv.writer(f)\n",
        "                (timestamp, vehicle, direction) = csv_line.split(',')\n",
        "                writer.writerows([csv_line.split(',')])\n",
        "                #print(\"writing to csv\")\n",
        "            captureCSV = False\n",
        "\n",
        "        if captureFrame:\n",
        "            dbox = track.detections[-1].to_tlbr()\n",
        "            bx1 = dbox[0]\n",
        "            by1 = dbox[1]\n",
        "            bx2 = dbox[2]\n",
        "            by2 = dbox[3]\n",
        "            if track.res is None:\n",
        "                print(\"track.res is None?!\", track.res)\n",
        "                #track.res = track.detections[-1].object_class\n",
        "            if track.ovwrClass is not None:\n",
        "                labelwriter.addObject(track.ovwrClass, bx1, by1, bx2, by2)\n",
        "            elif track.res is not None:\n",
        "                labelwriter.addObject(track.res, bx1, by1, bx2, by2)\n",
        "            else:\n",
        "                labelwriter.addObject(\"unknown\", bx1, by1, bx2, by2)\n",
        "            labelwriter.save(XMLPathName + \".xml\")\n",
        "            #print(\"write xml\")\n",
        "    \n",
        "    vidwriter.write(frame)\n",
        "    \n",
        "    #save image every 4 frames if non-car is detected\n",
        "    #or has been detected max. 13 frames before:\n",
        "    if captureFrame:\n",
        "        # without bounding box\n",
        "        # cv2.imwrite(imgPathName + \".jpg\",\n",
        "        #            cv2.cvtColor(frame_copy, cv2.COLOR_RGB2BGR))\n",
        "        # with bounding box\n",
        "        cv2.imwrite(imgPathName + \".jpg\",\n",
        "                    cv2.cvtColor(frame, cv2.COLOR_RGB2BGR))\n",
        "        #print(\"save image\")\n",
        "        \n",
        "\n",
        "  pbar.close()\n",
        "  vidreader.release()\n",
        "  vidwriter.release()\n",
        "  print(\"job done\")"
      ],
      "execution_count": 0,
      "outputs": []
    },
    {
      "cell_type": "code",
      "metadata": {
        "id": "4ho1uV4tsTiY",
        "colab_type": "code",
        "outputId": "526bcc95-1f21-4527-c55a-305394f6014d",
        "colab": {
          "base_uri": "https://localhost:8080/",
          "height": 1000,
          "referenced_widgets": [
            "5a5744508c644eb4a5622d68070c223d",
            "2c910b7470694884960ab4bb34780706",
            "fb3f03396ca04f1ead6eb366c41b640e",
            "563583281b1b49beb7216f9bf894315c",
            "522cb4a6b53945b5910f45fbcdeaaba1",
            "2abfa5e7c0b34d86a2cc02ae3261da18",
            "0bbc68d39d5e4af19b354486ce2d9500",
            "9f6446ae4646496b9d22961781be997c"
          ]
        }
      },
      "source": [
        "process_vid(in_vid_name,seconds_count,yolo,out_folder)"
      ],
      "execution_count": 23,
      "outputs": [
        {
          "output_type": "stream",
          "text": [
            "CPU times: user 3 µs, sys: 0 ns, total: 3 µs\n",
            "Wall time: 5.25 µs\n"
          ],
          "name": "stdout"
        },
        {
          "output_type": "display_data",
          "data": {
            "application/vnd.jupyter.widget-view+json": {
              "model_id": "5a5744508c644eb4a5622d68070c223d",
              "version_minor": 0,
              "version_major": 2
            },
            "text/plain": [
              "HBox(children=(IntProgress(value=0, max=250), HTML(value='')))"
            ]
          },
          "metadata": {
            "tags": []
          }
        },
        {
          "output_type": "stream",
          "text": [
            "2016-10-05 11:53:16,truck,None\n",
            "2016-10-05 11:53:16.040000,truck,None\n",
            "2016-10-05 11:53:16.080000,truck,None\n",
            "2016-10-05 11:53:16.120000,truck,None\n",
            "2016-10-05 11:53:16.160000,truck,None\n",
            "2016-10-05 11:53:16.200000,truck,None\n",
            "2016-10-05 11:53:16.240000,truck,None\n",
            "2016-10-05 11:53:16.280000,truck,None\n",
            "2016-10-05 11:53:16.320000,truck,None\n",
            "2016-10-05 11:53:16.360000,truck,None\n",
            "2016-10-05 11:53:16.400000,truck,None\n",
            "2016-10-05 11:53:16.440000,truck,None\n",
            "2016-10-05 11:53:16.480000,car,None\n",
            "2016-10-05 11:53:16.520000,car,None\n",
            "2016-10-05 11:53:16.560000,car,None\n",
            "2016-10-05 11:53:16.600000,car,None\n",
            "2016-10-05 11:53:16.640000,car,None\n",
            "2016-10-05 11:53:16.680000,car,None\n",
            "2016-10-05 11:53:16.720000,car,None\n",
            "2016-10-05 11:53:16.760000,truck,None\n",
            "2016-10-05 11:53:16.840000,car,None\n",
            "2016-10-05 11:53:16.880000,car,None\n",
            "2016-10-05 11:53:16.920000,car,None\n",
            "2016-10-05 11:53:16.960000,car,None\n",
            "2016-10-05 11:53:17,car,None\n",
            "2016-10-05 11:53:17.280000,car,None\n",
            "2016-10-05 11:53:17.320000,car,None\n",
            "2016-10-05 11:53:17.360000,car,None\n",
            "2016-10-05 11:53:17.400000,truck,None\n",
            "2016-10-05 11:53:17.440000,truck,None\n",
            "2016-10-05 11:53:17.480000,truck,None\n",
            "2016-10-05 11:53:17.520000,truck,None\n",
            "2016-10-05 11:53:17.560000,truck,None\n",
            "2016-10-05 11:53:17.600000,truck,None\n",
            "2016-10-05 11:53:17.640000,truck,None\n",
            "2016-10-05 11:53:17.680000,truck,None\n",
            "2016-10-05 11:53:17.720000,truck,None\n",
            "2016-10-05 11:53:17.760000,truck,None\n",
            "2016-10-05 11:53:17.800000,truck,None\n",
            "2016-10-05 11:53:17.840000,truck,None\n",
            "2016-10-05 11:53:17.880000,truck,None\n",
            "2016-10-05 11:53:17.920000,truck,None\n",
            "2016-10-05 11:53:17.960000,truck,None\n",
            "2016-10-05 11:53:18,truck,None\n",
            "2016-10-05 11:53:18.040000,truck,None\n",
            "2016-10-05 11:53:18.080000,truck,None\n",
            "2016-10-05 11:53:18.120000,truck,None\n",
            "2016-10-05 11:53:18.160000,truck,None\n",
            "2016-10-05 11:53:18.200000,truck,None\n",
            "2016-10-05 11:53:18.240000,truck,None\n",
            "2016-10-05 11:53:18.280000,truck,None\n",
            "2016-10-05 11:53:18.320000,truck,None\n",
            "2016-10-05 11:53:18.360000,truck,None\n",
            "2016-10-05 11:53:18.400000,truck,None\n",
            "2016-10-05 11:53:18.440000,truck,None\n",
            "2016-10-05 11:53:18.480000,truck,None\n",
            "2016-10-05 11:53:18.520000,truck,None\n",
            "2016-10-05 11:53:18.560000,truck,None\n",
            "2016-10-05 11:53:18.600000,truck,None\n",
            "2016-10-05 11:53:18.640000,truck,None\n",
            "2016-10-05 11:53:18.680000,truck,None\n",
            "2016-10-05 11:53:18.720000,truck,None\n",
            "2016-10-05 11:53:18.760000,truck,None\n",
            "2016-10-05 11:53:18.800000,truck,None\n",
            "2016-10-05 11:53:18.840000,truck,None\n",
            "2016-10-05 11:53:18.880000,truck,None\n",
            "2016-10-05 11:53:18.920000,truck,None\n",
            "2016-10-05 11:53:18.960000,truck,None\n",
            "2016-10-05 11:53:19,truck,None\n",
            "2016-10-05 11:53:19.040000,truck,None\n",
            "2016-10-05 11:53:19.080000,truck,None\n",
            "2016-10-05 11:53:19.120000,truck,None\n",
            "2016-10-05 11:53:19.160000,truck,None\n",
            "2016-10-05 11:53:19.200000,truck,None\n",
            "2016-10-05 11:53:19.240000,truck,None\n",
            "2016-10-05 11:53:19.280000,truck,None\n",
            "2016-10-05 11:53:19.320000,truck,None\n",
            "2016-10-05 11:53:19.360000,truck,None\n",
            "2016-10-05 11:53:19.400000,truck,None\n",
            "2016-10-05 11:53:19.440000,truck,None\n",
            "2016-10-05 11:53:19.480000,truck,None\n",
            "2016-10-05 11:53:19.520000,truck,None\n",
            "2016-10-05 11:53:19.560000,truck,None\n",
            "2016-10-05 11:53:19.600000,truck,None\n",
            "2016-10-05 11:53:19.640000,truck,None\n",
            "2016-10-05 11:53:19.680000,truck,None\n",
            "2016-10-05 11:53:19.720000,truck,None\n",
            "2016-10-05 11:53:19.760000,truck,None\n",
            "2016-10-05 11:53:19.800000,truck,None\n",
            "2016-10-05 11:53:19.840000,truck,None\n",
            "2016-10-05 11:53:19.880000,truck,None\n",
            "2016-10-05 11:53:19.920000,truck,None\n",
            "2016-10-05 11:53:19.960000,truck,None\n",
            "2016-10-05 11:53:20,truck,None\n",
            "2016-10-05 11:53:20.040000,truck,None\n",
            "2016-10-05 11:53:20.080000,truck,None\n",
            "2016-10-05 11:53:20.120000,truck,None\n",
            "2016-10-05 11:53:20.160000,car,None\n",
            "2016-10-05 11:53:20.600000,truck,None\n",
            "2016-10-05 11:53:20.640000,truck,None\n",
            "2016-10-05 11:53:20.680000,truck,None\n",
            "2016-10-05 11:53:20.720000,truck,None\n",
            "2016-10-05 11:53:20.760000,truck,None\n",
            "2016-10-05 11:53:20.800000,truck,None\n",
            "2016-10-05 11:53:20.840000,truck,None\n",
            "2016-10-05 11:53:20.880000,truck,None\n",
            "2016-10-05 11:53:20.920000,truck,None\n",
            "2016-10-05 11:53:20.960000,truck,None\n",
            "2016-10-05 11:53:21,truck,None\n",
            "2016-10-05 11:53:21.040000,truck,None\n",
            "2016-10-05 11:53:21.080000,truck,None\n",
            "2016-10-05 11:53:21.120000,truck,None\n",
            "2016-10-05 11:53:21.160000,truck,None\n",
            "2016-10-05 11:53:21.200000,truck,None\n",
            "2016-10-05 11:53:21.240000,truck,None\n",
            "2016-10-05 11:53:21.280000,truck,None\n",
            "2016-10-05 11:53:21.320000,truck,None\n",
            "2016-10-05 11:53:21.360000,truck,None\n",
            "2016-10-05 11:53:21.400000,truck,None\n",
            "2016-10-05 11:53:21.440000,truck,None\n",
            "2016-10-05 11:53:21.480000,truck,None\n",
            "2016-10-05 11:53:21.520000,truck,None\n",
            "2016-10-05 11:53:21.560000,truck,None\n",
            "2016-10-05 11:53:21.600000,truck,None\n",
            "2016-10-05 11:53:21.640000,truck,None\n",
            "2016-10-05 11:53:21.680000,truck,None\n",
            "2016-10-05 11:53:21.720000,truck,None\n",
            "2016-10-05 11:53:21.760000,truck,None\n",
            "2016-10-05 11:53:21.800000,truck,None\n",
            "2016-10-05 11:53:21.840000,truck,None\n",
            "2016-10-05 11:53:21.880000,truck,None\n",
            "2016-10-05 11:53:21.920000,truck,None\n",
            "2016-10-05 11:53:21.960000,truck,None\n",
            "2016-10-05 11:53:22,truck,None\n",
            "2016-10-05 11:53:22.040000,truck,None\n",
            "2016-10-05 11:53:22.080000,truck,None\n",
            "2016-10-05 11:53:22.120000,truck,None\n",
            "2016-10-05 11:53:22.160000,truck,None\n",
            "2016-10-05 11:53:22.200000,truck,None\n",
            "2016-10-05 11:53:22.240000,truck,None\n",
            "2016-10-05 11:53:22.280000,truck,None\n",
            "2016-10-05 11:53:22.320000,truck,None\n",
            "2016-10-05 11:53:22.360000,truck,None\n",
            "2016-10-05 11:53:22.400000,car,None\n",
            "2016-10-05 11:53:22.440000,truck,None\n",
            "2016-10-05 11:53:22.480000,truck,None\n",
            "2016-10-05 11:53:22.520000,truck,None\n",
            "2016-10-05 11:53:22.560000,truck,None\n",
            "2016-10-05 11:53:22.600000,truck,None\n",
            "2016-10-05 11:53:22.640000,truck,None\n",
            "2016-10-05 11:53:22.680000,truck,None\n",
            "2016-10-05 11:53:22.720000,truck,None\n",
            "2016-10-05 11:53:22.760000,truck,None\n",
            "2016-10-05 11:53:22.800000,truck,None\n",
            "2016-10-05 11:53:22.840000,truck,None\n",
            "2016-10-05 11:53:22.880000,truck,None\n",
            "2016-10-05 11:53:22.920000,truck,None\n",
            "2016-10-05 11:53:22.960000,truck,None\n",
            "2016-10-05 11:53:23,truck,None\n",
            "2016-10-05 11:53:23.040000,truck,None\n",
            "2016-10-05 11:53:23.080000,truck,None\n",
            "2016-10-05 11:53:23.120000,truck,None\n",
            "2016-10-05 11:53:23.160000,truck,None\n",
            "2016-10-05 11:53:23.200000,truck,None\n",
            "2016-10-05 11:53:23.240000,truck,None\n",
            "2016-10-05 11:53:23.280000,truck,None\n",
            "2016-10-05 11:53:23.320000,truck,None\n",
            "2016-10-05 11:53:23.360000,truck,None\n",
            "2016-10-05 11:53:23.400000,truck,None\n",
            "2016-10-05 11:53:23.440000,truck,None\n",
            "2016-10-05 11:53:23.480000,truck,None\n",
            "2016-10-05 11:53:23.520000,truck,None\n",
            "2016-10-05 11:53:23.560000,truck,None\n",
            "2016-10-05 11:53:23.600000,truck,None\n",
            "2016-10-05 11:53:23.640000,truck,None\n",
            "2016-10-05 11:53:23.680000,truck,None\n",
            "2016-10-05 11:53:23.720000,truck,None\n",
            "2016-10-05 11:53:23.760000,truck,None\n",
            "2016-10-05 11:53:23.800000,truck,None\n",
            "2016-10-05 11:53:23.840000,truck,None\n",
            "2016-10-05 11:53:23.880000,truck,None\n",
            "2016-10-05 11:53:23.920000,truck,None\n",
            "2016-10-05 11:53:23.960000,truck,None\n",
            "2016-10-05 11:53:24,truck,None\n",
            "2016-10-05 11:53:24.040000,truck,None\n",
            "2016-10-05 11:53:24.080000,truck,None\n",
            "2016-10-05 11:53:24.120000,truck,None\n",
            "2016-10-05 11:53:24.160000,truck,None\n",
            "2016-10-05 11:53:24.200000,truck,None\n",
            "2016-10-05 11:53:24.240000,truck,None\n",
            "2016-10-05 11:53:24.280000,truck,None\n",
            "2016-10-05 11:53:24.320000,truck,None\n",
            "2016-10-05 11:53:24.360000,truck,None\n",
            "2016-10-05 11:53:24.400000,truck,None\n",
            "2016-10-05 11:53:24.440000,truck,None\n",
            "2016-10-05 11:53:24.480000,truck,None\n",
            "2016-10-05 11:53:24.520000,truck,None\n",
            "2016-10-05 11:53:24.560000,truck,None\n",
            "2016-10-05 11:53:24.600000,truck,None\n",
            "2016-10-05 11:53:24.640000,truck,None\n",
            "2016-10-05 11:53:24.680000,truck,None\n",
            "2016-10-05 11:53:24.720000,truck,None\n",
            "2016-10-05 11:53:24.760000,truck,None\n",
            "2016-10-05 11:53:24.800000,truck,None\n",
            "2016-10-05 11:53:24.840000,truck,None\n",
            "2016-10-05 11:53:24.880000,truck,None\n",
            "2016-10-05 11:53:24.920000,truck,None\n",
            "2016-10-05 11:53:24.960000,truck,None\n",
            "2016-10-05 11:53:25,truck,None\n",
            "2016-10-05 11:53:25.040000,truck,None\n",
            "2016-10-05 11:53:25.080000,truck,None\n",
            "2016-10-05 11:53:25.120000,truck,None\n",
            "2016-10-05 11:53:25.160000,truck,None\n",
            "2016-10-05 11:53:25.200000,truck,None\n",
            "2016-10-05 11:53:25.240000,truck,None\n",
            "2016-10-05 11:53:25.280000,truck,None\n",
            "2016-10-05 11:53:25.320000,truck,None\n",
            "2016-10-05 11:53:25.360000,truck,None\n",
            "2016-10-05 11:53:25.400000,truck,None\n",
            "2016-10-05 11:53:25.440000,truck,None\n",
            "2016-10-05 11:53:25.480000,truck,None\n",
            "2016-10-05 11:53:25.520000,truck,None\n",
            "2016-10-05 11:53:25.560000,truck,None\n",
            "2016-10-05 11:53:25.600000,truck,None\n",
            "2016-10-05 11:53:25.640000,truck,None\n",
            "2016-10-05 11:53:25.680000,truck,None\n",
            "2016-10-05 11:53:25.720000,truck,None\n",
            "2016-10-05 11:53:25.760000,truck,None\n",
            "2016-10-05 11:53:25.800000,truck,None\n",
            "2016-10-05 11:53:25.840000,truck,None\n",
            "2016-10-05 11:53:25.880000,truck,None\n",
            "2016-10-05 11:53:25.920000,truck,None\n",
            "2016-10-05 11:53:25.960000,truck,None\n",
            "2016-10-05 11:53:26,truck,None\n",
            "job done\n"
          ],
          "name": "stdout"
        }
      ]
    }
  ]
}